{
 "cells": [
  {
   "cell_type": "markdown",
   "metadata": {},
   "source": [
    "# Approaches to Agricultural Optimization"
   ]
  },
  {
   "cell_type": "markdown",
   "metadata": {},
   "source": [
    "## Variable Definitions"
   ]
  },
  {
   "cell_type": "markdown",
   "metadata": {},
   "source": [
    "- $N$ crops belonging to $N_f$ families\n",
    "- $L$ number of lots\n",
    "- $M$ number of months\n",
    "- $C = [c_1, ... c_N]$ is the set of crops\n",
    "- $F_p = \\{c_i, c_j, ...\\}$ is set of crops in same family p\n",
    "- $R_i$ is revenue of crop i based on price/unit\n",
    "- $S_k$ is set of crops adjacent to lot $k$\n",
    "- $A_k$ area of lot k\n",
    "- $T_i$ growing time of crop i\n",
    "- $x_{ijk} = \\begin{cases} 1, & \\mbox{if crop i is planted on lot k in month j} \\\\ 0, & \\mbox{otherwise} \\end{cases}$"
   ]
  },
  {
   "cell_type": "markdown",
   "metadata": {},
   "source": [
    "## Mathematical Formulation"
   ]
  },
  {
   "cell_type": "markdown",
   "metadata": {},
   "source": [
    "The goal is to maximize the revenue generated according to the equation: $z = \\sum_{i \\in C} \\sum_{j=1}^M \\sum_{k=1}^L (A_k\\cdot R_i\\cdot x_{ijk})$\n",
    "\n",
    "While respecting the constraints farmers are subject to:\n",
    "\n",
    "$\\sum_{i \\in F_p}\\sum_{j=1}^M\\sum_{v \\in S_k} (x_{ijv}) \\le L(1 - \\sum_{j=1}^M\\sum_{i \\in F_p} x_{ijk})$ where $k=1,...,L$ and $p=1,...,N_f$\n",
    "\n",
    "$\\sum_{i\\in F_p}\\sum_{r=0}^{t_i} x_{i(j-r)k} \\le 1$ where $p=1,...,N_f$, $k=1,...,L$, and $j=1,...,M$\n",
    "\n",
    "$\\sum_i^N x_{ijk} \\le 1$ where $k=1,...,L$"
   ]
  },
  {
   "cell_type": "markdown",
   "metadata": {},
   "source": [
    "The fitness function chosen is a dampened exponential penalty function: $z(S) = z(S)\\cdot e^{-\\rho/\\phi}$ where $\\rho$ is the sum of all penalizations and $\\phi$ is a hyperparameter"
   ]
  },
  {
   "cell_type": "markdown",
   "metadata": {},
   "source": [
    "## Data and Problem Generation"
   ]
  },
  {
   "cell_type": "code",
   "execution_count": 2,
   "metadata": {},
   "outputs": [
    {
     "data": {
      "text/plain": [
       "build_greenhouse (generic function with 4 methods)"
      ]
     },
     "execution_count": 2,
     "metadata": {},
     "output_type": "execute_result"
    }
   ],
   "source": [
    "#divides a given area randomly into smaller rectangular plots\n",
    "function build_greenhouse(r,c,hcuts=3,vcuts=4, debug=false)\n",
    "    L = (hcuts+1)*(vcuts+1)\n",
    "    gh = zeros(Int,r,c)\n",
    "    areas = []\n",
    "    v = []\n",
    "    while length(v) < vcuts\n",
    "        cut = rand(1:20)\n",
    "        if !(cut in v)\n",
    "            push!(v,cut)\n",
    "        end\n",
    "    end\n",
    "    h = []\n",
    "    while length(h) < hcuts\n",
    "        cut = rand(1:20)\n",
    "        if !(cut in h)\n",
    "            push!(h,cut)\n",
    "        end\n",
    "    end\n",
    "    v = sort(cat(v,[c],dims=1))\n",
    "    h = sort(cat(h,[r],dims=1))\n",
    "    \n",
    "    temph=1\n",
    "    p = 1\n",
    "    for hcut in h\n",
    "        tempv=1\n",
    "        for vcut in v\n",
    "            gh[temph:hcut,tempv:vcut] .= p\n",
    "            push!(areas, (hcut-temph+1)*(vcut-tempv+1))\n",
    "            tempv = vcut + 1\n",
    "            p += 1\n",
    "        end\n",
    "        temph = hcut + 1\n",
    "    end\n",
    "    \n",
    "    neighbors = Array{Array{Any,1},1}(undef,L)\n",
    "    for i=1:L\n",
    "        temp = []\n",
    "        if i > vcuts+1\n",
    "            push!(temp, i-5)\n",
    "        end\n",
    "        if (i-1)%(vcuts+1) != 0\n",
    "            push!(temp,i-1)\n",
    "        end\n",
    "        if i%(vcuts+1) != 0\n",
    "            push!(temp,i+1)\n",
    "        end\n",
    "        if i < L - vcuts\n",
    "            push!(temp,i+5)\n",
    "        end\n",
    "        neighbors[i] = temp\n",
    "    end\n",
    "    \n",
    "    if debug==true\n",
    "        return gh\n",
    "    end\n",
    "    return areas,neighbors\n",
    "end"
   ]
  },
  {
   "cell_type": "code",
   "execution_count": 3,
   "metadata": {},
   "outputs": [],
   "source": [
    "L = 20 #number of lots\n",
    "N = 19 #number of plants\n",
    "Nf = 9 #number of plant families\n",
    "A_k,S_k = build_greenhouse(20,20) #areas,adjacent crops\n",
    "#profitability of each crop ($/acre)\n",
    "l_i = [[0,0,8815.2,8815.2,8815.2,8815.2,8815.2,0,0,0,0,0],\n",
    "        [0,7815.,7815.,7815.,7815.,7815.,7815.,7815.,7815.,7815.,0,0],\n",
    "        [0,0,10175.2,10175.2,10175.2,10175.2,10175.2,10175.2,0,0,0,0],\n",
    "        [0,0,1100.18,1100.18,1100.18,1100.18,0,0,0,0,0,0],\n",
    "        [8000.8,8000.8,8000.8,0,0,8000.8,8000.8,8000.8,0,0,0,0],\n",
    "        [17118.98,17118.98,17118.98,17118.98,17118.98,17118.98,17118.98,17118.98,17118.98,17118.98,17118.98,17118.98],\n",
    "        [0,0,0,0,0,1648.,1648.,1648.,1648.,0,0,0],\n",
    "        [4449.,4449.,4449.,4449.,4449.,4449.,4449.,4449.,4449.,4449.,4449.,4449.],\n",
    "        [450.,450.,450.,450.,450.,450.,450.,450.,0,0,0,450.],\n",
    "        [0,0,524.49,524.49,524.49,524.49,524.49,0,0,0,0,0],\n",
    "        [0,0,0,0,0,0,0,915.53,915.53,915.53,915.53,915.53],\n",
    "        [0,0,0,0,0,605.2,605.2,605.2,605.2,605.2,0,0],\n",
    "        [238.56,0,0,0,0,0,0,0,238.56,238.56,238.56,238.56],\n",
    "        [0,0,190.74,190.74,190.74,190.74,190.74,190.74,190.74,190.74,0,0],\n",
    "        [5845.,5845.,5845.,5845.,5845.,5845.,5845.,5845.,5845.,5845.,5845.,5845.],\n",
    "        [0,0,0,0,0,0,4500.,4500.,4500.,4500.,4500.,4500.],\n",
    "        [14604.48,14604.48,14604.48,14604.48,14604.48,14604.48,14604.48,14604.48,14604.48,14604.48,14604.48,14604.48],\n",
    "        [0,0,19646.98,19646.98,19646.98,19646.98,19646.98,19646.98,0,0,0,0],\n",
    "        [0,0,0,0,0,0,0,0,0,0,0,0]] \n",
    "F_p = [[1,2,3],[4,5],[6],[7,8],[9,10,11],[12,13,14],[15,16,17],[18],[19]] #crops in same family\n",
    "M = 12 #number of months\n",
    "t_i = [4,7,4,2,2,2,3,4,4,3,3,3,3,6,5,3,5,4,1] #time period for each crop, in months; t_i < M\n",
    "dfp = Dict(1=>1,2=>1,3=>1,4=>2,5=>2,6=>3,7=>4,8=>4,9=>5,10=>5,11=>5,12=>6,13=>6,14=>6,15=>7,16=>7,17=>7,\n",
    "    18=>8,19=>9); #dictionary of crop->family"
   ]
  },
  {
   "cell_type": "markdown",
   "metadata": {},
   "source": [
    "## Genetic Algorithm Implementation"
   ]
  },
  {
   "cell_type": "code",
   "execution_count": 4,
   "metadata": {},
   "outputs": [],
   "source": [
    "# package imports\n",
    "using Dates\n",
    "using Printf\n",
    "using Statistics\n",
    "using PrettyTables"
   ]
  },
  {
   "cell_type": "code",
   "execution_count": 5,
   "metadata": {},
   "outputs": [
    {
     "data": {
      "text/plain": [
       "plant_field (generic function with 1 method)"
      ]
     },
     "execution_count": 5,
     "metadata": {},
     "output_type": "execute_result"
    }
   ],
   "source": [
    "function plant_field(L,M,N)\n",
    "    field = zeros(Int,L,M)\n",
    "    for k=1:L\n",
    "        p = 1\n",
    "        while 0 in field[k,:]\n",
    "            crop = rand(1:N)\n",
    "            time = t_i[crop]\n",
    "            if time <= M - p + 1\n",
    "                for x=p:time+p-1\n",
    "                    field[k,x] = crop\n",
    "                end\n",
    "                p += time\n",
    "            end\n",
    "        end\n",
    "    end\n",
    "    return field\n",
    "end"
   ]
  },
  {
   "cell_type": "code",
   "execution_count": 6,
   "metadata": {},
   "outputs": [
    {
     "data": {
      "text/plain": [
       "fitness3 (generic function with 3 methods)"
      ]
     },
     "execution_count": 6,
     "metadata": {},
     "output_type": "execute_result"
    }
   ],
   "source": [
    "function fitness3(M, ϕ=8, debug=false)\n",
    "    z = 0\n",
    "    ρ = 0\n",
    "    for time=1:size(M)[2]\n",
    "        A = M[:,time]\n",
    "        for k=1:length(A)\n",
    "            z += A_k[k]*l_i[A[k]][time]\n",
    "            #penalizes if more than one crop is grown on the same plot\n",
    "            s = 0\n",
    "            for i=1:N\n",
    "                if A[k] == i\n",
    "                    s += 1\n",
    "                end\n",
    "            end\n",
    "            if s > 1\n",
    "                ρ += 1\n",
    "            end\n",
    "            #penalizes for planting crops of the same family in adjacent plots\n",
    "            for p=1:Nf\n",
    "                f = 0\n",
    "                n = L\n",
    "                for i in F_p[p]\n",
    "                    for v in S_k[k]\n",
    "                        if A[v] == i\n",
    "                            f += 1\n",
    "                        end\n",
    "                    end\n",
    "                    if A[k] == i\n",
    "                        n = 0\n",
    "                    end\n",
    "                end\n",
    "                if f > n\n",
    "                    ρ += 1\n",
    "                end\n",
    "            end\n",
    "        end\n",
    "    end\n",
    "    #penalizes for planting crops of the same family one after another\n",
    "    for plot=1:size(M)[1]\n",
    "        B = M[plot,:]\n",
    "        last = B[1]\n",
    "        count = 0\n",
    "        for l=1:length(B)\n",
    "            if B[l] != last\n",
    "                if dfp[B[l]] == dfp[last]\n",
    "                    ρ += 1\n",
    "                end\n",
    "                count = 0\n",
    "            else\n",
    "                if count > t_i[B[l]]\n",
    "                    ρ += 1\n",
    "                end\n",
    "            end\n",
    "            count += 1\n",
    "            last = B[l]\n",
    "        end\n",
    "    end\n",
    "    \n",
    "    if debug==true\n",
    "        println(ρ)\n",
    "    end\n",
    "    return z*Base.MathConstants.e^(-ρ/ϕ)\n",
    "end"
   ]
  },
  {
   "cell_type": "code",
   "execution_count": 7,
   "metadata": {},
   "outputs": [
    {
     "data": {
      "text/plain": [
       "weighted_roulette_wheel_selection3 (generic function with 2 methods)"
      ]
     },
     "execution_count": 7,
     "metadata": {},
     "output_type": "execute_result"
    }
   ],
   "source": [
    "function weighted_roulette_wheel_selection3(A, n=10)\n",
    "    fit = zeros(size(A)[3])\n",
    "    best = -1\n",
    "    for x=1:size(A)[3]\n",
    "        fit[x] = fitness3(A[:,:,x])\n",
    "        if best < fit[x]\n",
    "            best = fit[x]\n",
    "            elite1 = x\n",
    "        end\n",
    "    end\n",
    "    total = sum(fit)\n",
    "    ctot = 0\n",
    "    for i=1:length(fit)\n",
    "        fit[i] = (fit[i]/total) + ctot\n",
    "        ctot = fit[i]\n",
    "    end\n",
    "    selected = zeros(Int, 50)\n",
    "    #sorted = sortslices(A, dims=3, by=fitness, rev=true)\n",
    "    elite1 = A[:,:,elite1]\n",
    "    for x=1:n\n",
    "        r = rand()\n",
    "        i=1\n",
    "        while fit[i] < r\n",
    "            i+=1\n",
    "        end\n",
    "        selected[x] = i\n",
    "    end\n",
    "    return selected, elite1, size(A)[3]\n",
    "end"
   ]
  },
  {
   "cell_type": "code",
   "execution_count": 8,
   "metadata": {},
   "outputs": [
    {
     "data": {
      "text/plain": [
       "next_generation3 (generic function with 1 method)"
      ]
     },
     "execution_count": 8,
     "metadata": {},
     "output_type": "execute_result"
    }
   ],
   "source": [
    "function next_generation3(A, s; p=0.10, elite=[])\n",
    "    evals = 1\n",
    "    #crossover steps\n",
    "    r,c = 10,L\n",
    "    children = zeros(Int,c,12,r+1)\n",
    "    for i=1:div(r,2)\n",
    "        sp = rand(1:c-1)\n",
    "        children[:,:,2*i-1] = cat(A[1:sp,:,s[2*i-1]], A[sp+1:c,:,s[2*i]], dims=1)\n",
    "        children[:,:,2*i] = cat(A[sp+1:c,:,s[2*i-1]], A[1:sp,:,s[2*i]], dims=1)\n",
    "    end\n",
    "    #mutation steps\n",
    "    for x=1:r\n",
    "        for y=1:c\n",
    "            if rand() < p\n",
    "                children[y,:,x] = plant_field(1,12,N)\n",
    "                evals += 1\n",
    "            end\n",
    "        end\n",
    "    end\n",
    "    #elitism step\n",
    "    if elite != []\n",
    "        children[:,:,r+1] = elite\n",
    "    end\n",
    "    return children,evals\n",
    "end"
   ]
  },
  {
   "cell_type": "code",
   "execution_count": 9,
   "metadata": {},
   "outputs": [
    {
     "data": {
      "text/plain": [
       "run3! (generic function with 3 methods)"
      ]
     },
     "execution_count": 9,
     "metadata": {},
     "output_type": "execute_result"
    }
   ],
   "source": [
    "abstract type metaheuristic end\n",
    "mutable struct geneticAlgorithm <: metaheuristic end\n",
    "\n",
    "function run3!(GA::geneticAlgorithm, start, epochs=1e3, n_same=1e3)\n",
    "    time = Dates.now(UTC)\n",
    "    n_epochs = 1\n",
    "    best = []\n",
    "    staling = 1\n",
    "    fevals=0\n",
    "    generation = copy(start)\n",
    "    while n_epochs < epochs\n",
    "        selected,elite,evals = weighted_roulette_wheel_selection3(generation)\n",
    "        fevals += evals\n",
    "        if best == elite\n",
    "            staling += 1\n",
    "        else\n",
    "            best = elite\n",
    "            staling = 1\n",
    "        end\n",
    "        if staling == n_same\n",
    "            return best, [fitness3(best),n_epochs,fevals,Dates.value(Dates.now(UTC) - time)]\n",
    "        end\n",
    "        generation,evals = next_generation3(generation, selected, elite=elite)\n",
    "        fevals += evals\n",
    "        n_epochs += 1\n",
    "    end\n",
    "    return best, [fitness3(best),n_epochs,fevals,Dates.value(Dates.now(UTC) - time)]\n",
    "end"
   ]
  },
  {
   "cell_type": "markdown",
   "metadata": {},
   "source": [
    "### Genetic Algorithm Statistics"
   ]
  },
  {
   "cell_type": "code",
   "execution_count": 10,
   "metadata": {},
   "outputs": [
    {
     "data": {
      "text/plain": [
       "GA_stats (generic function with 1 method)"
      ]
     },
     "execution_count": 10,
     "metadata": {},
     "output_type": "execute_result"
    }
   ],
   "source": [
    "function GA_stats(m)\n",
    "    stats = []\n",
    "    for i=1:20\n",
    "        start = zeros(Int,20,12,50)\n",
    "        for i=1:50\n",
    "            start[:,:,i] = plant_field(20,12,19)\n",
    "        end\n",
    "        ga = geneticAlgorithm()\n",
    "        crops,s = run3!(ga,start,m)\n",
    "        for j=1:4\n",
    "            push!(stats,s[j])\n",
    "        end\n",
    "    end\n",
    "    pstats = permutedims(reshape(stats, (4,20)))\n",
    "    std_f = std(pstats, dims=[1 1 1 1])\n",
    "    mean_f = mean!([1. 1. 1. 1.], pstats)\n",
    "    format = String[]\n",
    "    push!(format, string(m))\n",
    "    for s=1 : 4\n",
    "        push!(format, @sprintf(\"%.4E ± %.4E\", mean_f[s], std_f[s]))\n",
    "    end\n",
    "    return format\n",
    "end"
   ]
  },
  {
   "cell_type": "code",
   "execution_count": 11,
   "metadata": {},
   "outputs": [
    {
     "data": {
      "text/html": [
       "<!DOCTYPE html>\n",
       "<html>\n",
       "<meta charset=\"UTF-8\">\n",
       "<style>\n",
       "table, td, th {\n",
       "    border-collapse: collapse;\n",
       "    font-family: sans-serif;\n",
       "}\n",
       "\n",
       "td, th {\n",
       "    border-bottom: 0;\n",
       "    padding: 4px\n",
       "}\n",
       "\n",
       "tr:nth-child(odd) {\n",
       "    background: #eee;\n",
       "}\n",
       "\n",
       "tr:nth-child(even) {\n",
       "    background: #fff;\n",
       "}\n",
       "\n",
       "tr.header {\n",
       "    background: navy !important;\n",
       "    color: white;\n",
       "    font-weight: bold;\n",
       "}\n",
       "\n",
       "tr.subheader {\n",
       "    background: lightgray !important;\n",
       "    color: black;\n",
       "}\n",
       "\n",
       "tr.headerLastRow {\n",
       "    border-bottom: 2px solid black;\n",
       "}\n",
       "\n",
       "th.rowNumber, td.rowNumber {\n",
       "    text-align: right;\n",
       "}\n",
       "\n",
       "</style>\n",
       "<body>\n",
       "<table>\n",
       "<tr class = \"header headerLastRow\">\n",
       "<th style = \"text-align: right; \">MaxIter</th>\n",
       "<th style = \"text-align: right; \">Revenue</th>\n",
       "<th style = \"text-align: right; \">Epochs</th>\n",
       "<th style = \"text-align: right; \">Fevals</th>\n",
       "<th style = \"text-align: right; \">Time (ms)</th>\n",
       "</tr>\n",
       "<tr>\n",
       "<td style = \"text-align: right; \">10</td>\n",
       "<td style = \"text-align: right; \">3.6100E+05 ± 4.4392E+05</td>\n",
       "<td style = \"text-align: right; \">1.0000E+01 ± 0.0000E+00</td>\n",
       "<td style = \"text-align: right; \">3.3055E+02 ± 1.2475E+01</td>\n",
       "<td style = \"text-align: right; \">4.7870E+02 ± 6.9246E+01</td>\n",
       "</tr>\n",
       "<tr>\n",
       "<td style = \"text-align: right; \">50</td>\n",
       "<td style = \"text-align: right; \">6.1873E+06 ± 6.4607E+06</td>\n",
       "<td style = \"text-align: right; \">5.0000E+01 ± 0.0000E+00</td>\n",
       "<td style = \"text-align: right; \">1.6009E+03 ± 3.0727E+01</td>\n",
       "<td style = \"text-align: right; \">2.1507E+03 ± 3.8740E+02</td>\n",
       "</tr>\n",
       "<tr>\n",
       "<td style = \"text-align: right; \">100</td>\n",
       "<td style = \"text-align: right; \">1.2137E+07 ± 7.2449E+06</td>\n",
       "<td style = \"text-align: right; \">1.0000E+02 ± 0.0000E+00</td>\n",
       "<td style = \"text-align: right; \">3.2298E+03 ± 3.8625E+01</td>\n",
       "<td style = \"text-align: right; \">3.8579E+03 ± 3.8985E+02</td>\n",
       "</tr>\n",
       "<tr>\n",
       "<td style = \"text-align: right; \">500</td>\n",
       "<td style = \"text-align: right; \">3.0090E+07 ± 7.8643E+06</td>\n",
       "<td style = \"text-align: right; \">5.0000E+02 ± 0.0000E+00</td>\n",
       "<td style = \"text-align: right; \">1.5998E+04 ± 9.1047E+01</td>\n",
       "<td style = \"text-align: right; \">1.8534E+04 ± 5.7974E+02</td>\n",
       "</tr>\n",
       "</table>\n",
       "</body>\n",
       "</html>\n"
      ]
     },
     "metadata": {},
     "output_type": "display_data"
    }
   ],
   "source": [
    "stats_10 = reshape(GA_stats(10), (1,5))\n",
    "stats_50 = reshape(GA_stats(50), (1,5))\n",
    "stats_100 = reshape(GA_stats(100), (1,5))\n",
    "stats_500 = reshape(GA_stats(500), (1,5))\n",
    "table = permutedims(reshape([stats_10 stats_50 stats_100 stats_500], (5,4)))\n",
    "pretty_table(table, [\"MaxIter\", \"Revenue\", \"Epochs\", \"Fevals\", \"Time (ms)\"]; backend=:html)"
   ]
  },
  {
   "cell_type": "markdown",
   "metadata": {},
   "source": [
    "### Sample Execution"
   ]
  },
  {
   "cell_type": "code",
   "execution_count": 12,
   "metadata": {},
   "outputs": [
    {
     "name": "stdout",
     "output_type": "stream",
     "text": [
      "3.8127282060000055e7\n"
     ]
    }
   ],
   "source": [
    "#generate a starting generation\n",
    "start = zeros(Int,20,12,50)\n",
    "for i=1:50\n",
    "    start[:,:,i] = plant_field(20,12,19)\n",
    "end\n",
    "#create an instance of the algorithm\n",
    "ga = geneticAlgorithm()\n",
    "#run the algorithm\n",
    "crops,s = run3!(ga,start)\n",
    "#print the revenue/fitness value\n",
    "println(fitness3(crops))"
   ]
  },
  {
   "cell_type": "markdown",
   "metadata": {},
   "source": [
    "## Simulated Annealing Implementation"
   ]
  },
  {
   "cell_type": "code",
   "execution_count": 1,
   "metadata": {},
   "outputs": [
    {
     "name": "stderr",
     "output_type": "stream",
     "text": [
      "┌ Info: Precompiling Colors [5ae59095-9a9b-59fe-a467-6f913c188581]\n",
      "└ @ Base loading.jl:1278\n",
      "┌ Info: Precompiling Plots [91a5bcdd-55d7-5caf-9e0b-520d859cae80]\n",
      "└ @ Base loading.jl:1278\n"
     ]
    },
    {
     "data": {
      "text/plain": [
       "simulated_annealing (generic function with 1 method)"
      ]
     },
     "execution_count": 1,
     "metadata": {},
     "output_type": "execute_result"
    }
   ],
   "source": [
    "#package imports\n",
    "using Colors\n",
    "using Plots\n",
    "using Random\n",
    "\n",
    "function simulated_annealing(f, x, T, t, k_max, month)\n",
    "    y = f(x)\n",
    "    x_best, y_best = x, y\n",
    "    for k in 1 : k_max\n",
    "        dims = size(x[1])\n",
    "        x′ = T(dims[1],dims[2],month)\n",
    "        y′ = f(x′)\n",
    "        Δy = y′ - y\n",
    "        if Δy ≤ 0 || rand() < exp(-Δy/t(k))\n",
    "            x, y = x′, y′\n",
    "        end\n",
    "        if y′ < y_best\n",
    "            x_best, y_best = x′, y′\n",
    "        end\n",
    "    end\n",
    "    return x_best\n",
    "end"
   ]
  },
  {
   "cell_type": "code",
   "execution_count": 2,
   "metadata": {},
   "outputs": [
    {
     "data": {
      "text/plain": [
       "init! (generic function with 1 method)"
      ]
     },
     "execution_count": 2,
     "metadata": {},
     "output_type": "execute_result"
    }
   ],
   "source": [
    "abstract type crop end \n",
    "mutable struct plant <: crop\n",
    "    name\n",
    "    family\n",
    "    profit\n",
    "    monthsleft\n",
    "    color\n",
    "end\n",
    "\n",
    "function init!(M::plant, name, family, profit, monthsleft,color)\n",
    "    M.name = name\n",
    "    M.family = family\n",
    "    M.profit = profit\n",
    "    M.monthsleft = monthsleft\n",
    "    M.color = color\n",
    "    return M\n",
    "end"
   ]
  },
  {
   "cell_type": "code",
   "execution_count": 3,
   "metadata": {},
   "outputs": [
    {
     "data": {
      "text/plain": [
       "#1 (generic function with 1 method)"
      ]
     },
     "execution_count": 3,
     "metadata": {},
     "output_type": "execute_result"
    }
   ],
   "source": [
    "#set initial t\n",
    "t0 = 1\n",
    "#use fast annealing schedule\n",
    "t = k -> t0/k"
   ]
  },
  {
   "cell_type": "code",
   "execution_count": 4,
   "metadata": {},
   "outputs": [
    {
     "data": {
      "text/plain": [
       "get_adjacent_plant (generic function with 1 method)"
      ]
     },
     "execution_count": 4,
     "metadata": {},
     "output_type": "execute_result"
    }
   ],
   "source": [
    "#for implementation of penalty function requires to know which plants are adjacent\n",
    "function get_adjacent_plant(x, i)\n",
    "    dims = size(x)\n",
    "    array = plant[]\n",
    "    xcoord = mod(i-1, dims[2])\n",
    "    ycoord = (i-1)÷dims[1]\n",
    "    if(xcoord > 0)\n",
    "        push!(array,x[i-1])\n",
    "    end\n",
    "    if(xcoord < dims[2]-1)\n",
    "        push!(array, x[i+1])\n",
    "    end\n",
    "    if(ycoord > 0)\n",
    "        push!(array, x[i - dims[2]])\n",
    "    end\n",
    "    if(ycoord < dims[1]-1)\n",
    "        push!(array, x[i + dims[2]])\n",
    "    end\n",
    "    return array\n",
    "end"
   ]
  },
  {
   "cell_type": "code",
   "execution_count": 5,
   "metadata": {},
   "outputs": [
    {
     "data": {
      "text/plain": [
       "updateplantm (generic function with 1 method)"
      ]
     },
     "execution_count": 5,
     "metadata": {},
     "output_type": "execute_result"
    }
   ],
   "source": [
    "Spring = [plant(\"Soybean\", \"Leguminosae\",50,4, RGB(127/255,0,1.0)),plant(\"Lettuce\",\"Compositae\",47.29*362,2, RGB(0,0,0)),\n",
    "        plant(\"Tomato\", \"Solanaceae\",6.68*875,5,RGB(1.0,1/2,0)), plant(\"Cucumber\", \"Cucurbitae\",30*148.3,4, RGB(0,0,204/255)), \n",
    "        plant(\"Peas\",\"Leguminosae\",13.46*39,3,RGB(153/255,1/5,1)),plant(\"Cauliflower\",\"Brassicaceae\", 46.30*221.2, 4, RGB(76/255,153/255,0)),\n",
    "        plant(\"Carrots\",\"Umbelliferae\", 31.40*625.7,4,RGB(1/2,1/2,1/2)), plant(\"Beets\",\"Chenopodiaceae\", 1100, 2,RGB(153/255,0,0)),\n",
    "        plant(\"Oats\",\"Poaceae\",190,6,RGB(1,1,2/5)), plant(\"Cabbage\",\"Brassicaceae\",8815, 4,RGB(51/255,102/255,0)),\n",
    "        plant(\"empty\", \"none\",0,1, RGB(1,1,1))]\n",
    "\n",
    "Summer = [plant(\"Lettuce\",\"Compositae\",47.29*362,2, RGB(0,0,0)),plant(\"Tomato\", \"Solanaceae\", 6.68*875,5,RGB(1,1/2,0)), \n",
    "        plant(\"Cucumber\", \"Cucurbitae\",30*148.3,4, RGB(0,0,204/255)),plant(\"Corn\", \"Poaceae\", 3.4*178, 3,RGB(1,1,0)), \n",
    "        plant(\"Potato\",\"Solanaceae\", 4500,3,RGB(1,3/5,1/5)), plant(\"Watermelon\",\"Cucurbitae\", 1648,3,RGB(0,0,153/255)), \n",
    "        plant(\"Bellpeppers\", \"Solanaceae\", 14604,5,RGB(1,178/255,2/5)),plant(\"empty\", \"none\",0,1, RGB(1,1,1))]\n",
    "\n",
    "Fall = [plant(\"Lettuce\",\"Compositae\",47.29*362,2, RGB(0,0,0)),plant(\"Tomato\", \"Solanaceae\", 6.68*875,5,RGB(1,1/2,0)), \n",
    "        plant(\"Cucumber\", \"Cucurbitae\",30*148.3,4, RGB(0,0,204/255)), plant(\"Winter Wheat\",\"Poaceae\",4.80*49.7,3,RGB(1,1,1/5)),\n",
    "        plant(\"Beans\", \"Leguminoae\", 3, 915, RGB(178/255,2/5,1)),plant(\"empty\", \"none\",0,1, RGB(1,1,1))]\n",
    "\n",
    "Winter = [plant(\"Lettuce\",\"Compositae\",47.29*362,2, RGB(0,0,0)),plant(\"Tomato\", \"Solanaceae\", 6.68*875,5,RGB(1,1/2,0)), \n",
    "        plant(\"Cucumber\", \"Cucurbitae\",30*148.3,4, RGB(0,0,204/255)), plant(\"Soybean\", \"Leguminosae\",50,4,RGB(127/255,0,1)), \n",
    "        plant(\"Broccoli\",\"Brassicaceae\",7815,7,RGB(102/255,204/255,0)), plant(\"Spinach\", \"Chenopodiaceae\",8000, 2,RGB(204/255,0,0)),\n",
    "        plant(\"empty\", \"none\",0,1, RGB(1,1,1))]\n",
    "\n",
    "function createplantmatrix(x, y, month)\n",
    "    plantlist = retPList(month)\n",
    "    n = length(plantlist)\n",
    "    plantm = Matrix{plant}(undef, y, x)\n",
    "    for i=1:x*y\n",
    "        plant1 = plantlist[rand(1:n)]\n",
    "        plant2 = deepcopy(plant1)\n",
    "        plantm[i] = plant2\n",
    "    end\n",
    "    return plantm\n",
    "end\n",
    "\n",
    "function retPList(month)\n",
    "    plist = []\n",
    "    if month < 4\n",
    "        plist = Spring\n",
    "    elseif month < 7\n",
    "        plist = Summer\n",
    "    elseif month < 10\n",
    "        plist = Fall\n",
    "    else\n",
    "        plist = Winter\n",
    "    end\n",
    "    return plist\n",
    "end\n",
    "\n",
    "function updateplantm(plantm,num,month)\n",
    "    plantlist = retPList(month)\n",
    "    n = length(plantlist)\n",
    "    plant1 = plantlist[rand(1:n)]\n",
    "    adj = get_adjacent_plant(plantm, num)\n",
    "    plant2 = deepcopy(plant1)\n",
    "    return plant2\n",
    "end\n"
   ]
  },
  {
   "cell_type": "code",
   "execution_count": 6,
   "metadata": {},
   "outputs": [
    {
     "data": {
      "text/plain": [
       "plotfield (generic function with 1 method)"
      ]
     },
     "execution_count": 6,
     "metadata": {},
     "output_type": "execute_result"
    }
   ],
   "source": [
    "function penaltyplant(x) \n",
    "    dims = size(x)\n",
    "    total = dims[1]*dims[2]\n",
    "    adjacents = 0\n",
    "    for i = 1:total\n",
    "        adjacent = get_adjacent_plant(x, i)\n",
    "        for j = 1:length(adjacent)\n",
    "            if(x[i].family == x[j].family)    \n",
    "                adjacents+=1\n",
    "            end\n",
    "        end\n",
    "    end\n",
    "    return adjacents/total\n",
    "end\n",
    "\n",
    "function plotfield(plantm)\n",
    "    dims = size(plantm)\n",
    "    plantplot = Matrix{RGB{Float64}}(undef,dims[1],dims[2])\n",
    "    for i=1:dims[1]*dims[2]\n",
    "        plantplot[i] = plantm[i].color\n",
    "    end\n",
    "    display(plot(plantplot, reuse=false))\n",
    "end"
   ]
  },
  {
   "cell_type": "code",
   "execution_count": 7,
   "metadata": {},
   "outputs": [
    {
     "data": {
      "text/plain": [
       "createpath (generic function with 1 method)"
      ]
     },
     "execution_count": 7,
     "metadata": {},
     "output_type": "execute_result"
    }
   ],
   "source": [
    "function profitpath(path)\n",
    "    profit = 0\n",
    "    for i in path\n",
    "        monthlyprofit=0\n",
    "        for j in i\n",
    "            if j.monthsleft == 1\n",
    "                monthlyprofit += j.profit\n",
    "            end\n",
    "        end\n",
    "        monthlyprofit /= (1 + penaltyplant(i))^2\n",
    "        profit += monthlyprofit\n",
    "    end\n",
    "    return -profit\n",
    "end\n",
    "\n",
    "function profitplant(oplantmatrix)\n",
    "    profit = 0\n",
    "    plantmatrix = deepcopy(oplantmatrix)\n",
    "    for i = 1:length(plantmatrix)\n",
    "        profit += plantmatrix[i].profit\n",
    "    end\n",
    "    profit /= (1 + penaltyplant(plantmatrix))^2\n",
    "    return -profit\n",
    "end\n",
    "\n",
    "function createpath(x,y,month)\n",
    "    array = []\n",
    "    plantmatrix = createplantmatrix(x,y,month)\n",
    "    plantm = deepcopy(plantmatrix)\n",
    "    push!(array,plantm)\n",
    "    month = 1\n",
    "    for i= 2:12\n",
    "        for i = 1:length(plantmatrix)\n",
    "            plantmatrix[i].monthsleft -= 1\n",
    "            if plantmatrix[i].monthsleft <= 0\n",
    "                plantmatrix[i] = updateplantm(plantmatrix,i,month)\n",
    "            end\n",
    "        end\n",
    "        month+=1\n",
    "        curr = deepcopy(plantmatrix)\n",
    "        push!(array,curr)\n",
    "    end\n",
    "    return array\n",
    "end"
   ]
  },
  {
   "cell_type": "code",
   "execution_count": 8,
   "metadata": {},
   "outputs": [
    {
     "data": {
      "image/svg+xml": [
       "<?xml version=\"1.0\" encoding=\"utf-8\"?>\n",
       "<svg xmlns=\"http://www.w3.org/2000/svg\" xmlns:xlink=\"http://www.w3.org/1999/xlink\" width=\"600\" height=\"400\" viewBox=\"0 0 2400 1600\">\n",
       "<defs>\n",
       "  <clipPath id=\"clip580\">\n",
       "    <rect x=\"0\" y=\"0\" width=\"2400\" height=\"1600\"/>\n",
       "  </clipPath>\n",
       "</defs>\n",
       "<path clip-path=\"url(#clip580)\" d=\"\n",
       "M0 1600 L2400 1600 L2400 0 L0 0  Z\n",
       "  \" fill=\"#ffffff\" fill-rule=\"evenodd\" fill-opacity=\"1\"/>\n",
       "<defs>\n",
       "  <clipPath id=\"clip581\">\n",
       "    <rect x=\"480\" y=\"0\" width=\"1681\" height=\"1600\"/>\n",
       "  </clipPath>\n",
       "</defs>\n",
       "<path clip-path=\"url(#clip580)\" d=\"\n",
       "M342.293 1423.18 L2352.76 1423.18 L2352.76 123.472 L342.293 123.472  Z\n",
       "  \" fill=\"#ffffff\" fill-rule=\"evenodd\" fill-opacity=\"1\"/>\n",
       "<defs>\n",
       "  <clipPath id=\"clip582\">\n",
       "    <rect x=\"342\" y=\"123\" width=\"2011\" height=\"1301\"/>\n",
       "  </clipPath>\n",
       "</defs>\n",
       "<polyline clip-path=\"url(#clip582)\" style=\"stroke:#000000; stroke-width:2; stroke-opacity:0.1; fill:none\" points=\"\n",
       "  359.965,1423.18 359.965,123.472 \n",
       "  \"/>\n",
       "<polyline clip-path=\"url(#clip582)\" style=\"stroke:#000000; stroke-width:2; stroke-opacity:0.1; fill:none\" points=\"\n",
       "  850.313,1423.18 850.313,123.472 \n",
       "  \"/>\n",
       "<polyline clip-path=\"url(#clip582)\" style=\"stroke:#000000; stroke-width:2; stroke-opacity:0.1; fill:none\" points=\"\n",
       "  1340.66,1423.18 1340.66,123.472 \n",
       "  \"/>\n",
       "<polyline clip-path=\"url(#clip582)\" style=\"stroke:#000000; stroke-width:2; stroke-opacity:0.1; fill:none\" points=\"\n",
       "  1831.01,1423.18 1831.01,123.472 \n",
       "  \"/>\n",
       "<polyline clip-path=\"url(#clip582)\" style=\"stroke:#000000; stroke-width:2; stroke-opacity:0.1; fill:none\" points=\"\n",
       "  2321.35,1423.18 2321.35,123.472 \n",
       "  \"/>\n",
       "<polyline clip-path=\"url(#clip580)\" style=\"stroke:#000000; stroke-width:4; stroke-opacity:1; fill:none\" points=\"\n",
       "  342.293,1423.18 2352.76,1423.18 \n",
       "  \"/>\n",
       "<polyline clip-path=\"url(#clip580)\" style=\"stroke:#000000; stroke-width:4; stroke-opacity:1; fill:none\" points=\"\n",
       "  359.965,1423.18 359.965,1407.58 \n",
       "  \"/>\n",
       "<polyline clip-path=\"url(#clip580)\" style=\"stroke:#000000; stroke-width:4; stroke-opacity:1; fill:none\" points=\"\n",
       "  850.313,1423.18 850.313,1407.58 \n",
       "  \"/>\n",
       "<polyline clip-path=\"url(#clip580)\" style=\"stroke:#000000; stroke-width:4; stroke-opacity:1; fill:none\" points=\"\n",
       "  1340.66,1423.18 1340.66,1407.58 \n",
       "  \"/>\n",
       "<polyline clip-path=\"url(#clip580)\" style=\"stroke:#000000; stroke-width:4; stroke-opacity:1; fill:none\" points=\"\n",
       "  1831.01,1423.18 1831.01,1407.58 \n",
       "  \"/>\n",
       "<polyline clip-path=\"url(#clip580)\" style=\"stroke:#000000; stroke-width:4; stroke-opacity:1; fill:none\" points=\"\n",
       "  2321.35,1423.18 2321.35,1407.58 \n",
       "  \"/>\n",
       "<path clip-path=\"url(#clip580)\" d=\"M 0 0 M359.965 1452.37 Q356.354 1452.37 354.526 1455.94 Q352.72 1459.48 352.72 1466.61 Q352.72 1473.71 354.526 1477.28 Q356.354 1480.82 359.965 1480.82 Q363.6 1480.82 365.405 1477.28 Q367.234 1473.71 367.234 1466.61 Q367.234 1459.48 365.405 1455.94 Q363.6 1452.37 359.965 1452.37 M359.965 1448.67 Q365.776 1448.67 368.831 1453.27 Q371.91 1457.86 371.91 1466.61 Q371.91 1475.33 368.831 1479.94 Q365.776 1484.52 359.965 1484.52 Q354.155 1484.52 351.077 1479.94 Q348.021 1475.33 348.021 1466.61 Q348.021 1457.86 351.077 1453.27 Q354.155 1448.67 359.965 1448.67 Z\" fill=\"#000000\" fill-rule=\"evenodd\" fill-opacity=\"1\" /><path clip-path=\"url(#clip580)\" d=\"M 0 0 M818.449 1479.92 L834.769 1479.92 L834.769 1483.85 L812.824 1483.85 L812.824 1479.92 Q815.486 1477.16 820.07 1472.53 Q824.676 1467.88 825.857 1466.54 Q828.102 1464.01 828.982 1462.28 Q829.884 1460.52 829.884 1458.83 Q829.884 1456.07 827.94 1454.34 Q826.019 1452.6 822.917 1452.6 Q820.718 1452.6 818.264 1453.37 Q815.834 1454.13 813.056 1455.68 L813.056 1450.96 Q815.88 1449.82 818.334 1449.25 Q820.787 1448.67 822.824 1448.67 Q828.195 1448.67 831.389 1451.35 Q834.583 1454.04 834.583 1458.53 Q834.583 1460.66 833.773 1462.58 Q832.986 1464.48 830.88 1467.07 Q830.301 1467.74 827.199 1470.96 Q824.097 1474.15 818.449 1479.92 Z\" fill=\"#000000\" fill-rule=\"evenodd\" fill-opacity=\"1\" /><path clip-path=\"url(#clip580)\" d=\"M 0 0 M839.884 1449.29 L858.241 1449.29 L858.241 1453.23 L844.167 1453.23 L844.167 1461.7 Q845.185 1461.35 846.204 1461.19 Q847.222 1461 848.241 1461 Q854.028 1461 857.407 1464.18 Q860.787 1467.35 860.787 1472.76 Q860.787 1478.34 857.315 1481.44 Q853.843 1484.52 847.523 1484.52 Q845.347 1484.52 843.079 1484.15 Q840.833 1483.78 838.426 1483.04 L838.426 1478.34 Q840.509 1479.48 842.732 1480.03 Q844.954 1480.59 847.431 1480.59 Q851.435 1480.59 853.773 1478.48 Q856.111 1476.38 856.111 1472.76 Q856.111 1469.15 853.773 1467.05 Q851.435 1464.94 847.431 1464.94 Q845.556 1464.94 843.681 1465.36 Q841.829 1465.77 839.884 1466.65 L839.884 1449.29 Z\" fill=\"#000000\" fill-rule=\"evenodd\" fill-opacity=\"1\" /><path clip-path=\"url(#clip580)\" d=\"M 0 0 M875.856 1452.37 Q872.245 1452.37 870.417 1455.94 Q868.611 1459.48 868.611 1466.61 Q868.611 1473.71 870.417 1477.28 Q872.245 1480.82 875.856 1480.82 Q879.491 1480.82 881.296 1477.28 Q883.125 1473.71 883.125 1466.61 Q883.125 1459.48 881.296 1455.94 Q879.491 1452.37 875.856 1452.37 M875.856 1448.67 Q881.667 1448.67 884.722 1453.27 Q887.801 1457.86 887.801 1466.61 Q887.801 1475.33 884.722 1479.94 Q881.667 1484.52 875.856 1484.52 Q870.046 1484.52 866.968 1479.94 Q863.912 1475.33 863.912 1466.61 Q863.912 1457.86 866.968 1453.27 Q870.046 1448.67 875.856 1448.67 Z\" fill=\"#000000\" fill-rule=\"evenodd\" fill-opacity=\"1\" /><path clip-path=\"url(#clip580)\" d=\"M 0 0 M1303.92 1449.29 L1322.28 1449.29 L1322.28 1453.23 L1308.21 1453.23 L1308.21 1461.7 Q1309.22 1461.35 1310.24 1461.19 Q1311.26 1461 1312.28 1461 Q1318.07 1461 1321.45 1464.18 Q1324.83 1467.35 1324.83 1472.76 Q1324.83 1478.34 1321.35 1481.44 Q1317.88 1484.52 1311.56 1484.52 Q1309.39 1484.52 1307.12 1484.15 Q1304.87 1483.78 1302.47 1483.04 L1302.47 1478.34 Q1304.55 1479.48 1306.77 1480.03 Q1308.99 1480.59 1311.47 1480.59 Q1315.47 1480.59 1317.81 1478.48 Q1320.15 1476.38 1320.15 1472.76 Q1320.15 1469.15 1317.81 1467.05 Q1315.47 1464.94 1311.47 1464.94 Q1309.6 1464.94 1307.72 1465.36 Q1305.87 1465.77 1303.92 1466.65 L1303.92 1449.29 Z\" fill=\"#000000\" fill-rule=\"evenodd\" fill-opacity=\"1\" /><path clip-path=\"url(#clip580)\" d=\"M 0 0 M1339.9 1452.37 Q1336.28 1452.37 1334.46 1455.94 Q1332.65 1459.48 1332.65 1466.61 Q1332.65 1473.71 1334.46 1477.28 Q1336.28 1480.82 1339.9 1480.82 Q1343.53 1480.82 1345.34 1477.28 Q1347.16 1473.71 1347.16 1466.61 Q1347.16 1459.48 1345.34 1455.94 Q1343.53 1452.37 1339.9 1452.37 M1339.9 1448.67 Q1345.71 1448.67 1348.76 1453.27 Q1351.84 1457.86 1351.84 1466.61 Q1351.84 1475.33 1348.76 1479.94 Q1345.71 1484.52 1339.9 1484.52 Q1334.09 1484.52 1331.01 1479.94 Q1327.95 1475.33 1327.95 1466.61 Q1327.95 1457.86 1331.01 1453.27 Q1334.09 1448.67 1339.9 1448.67 Z\" fill=\"#000000\" fill-rule=\"evenodd\" fill-opacity=\"1\" /><path clip-path=\"url(#clip580)\" d=\"M 0 0 M1366.91 1452.37 Q1363.3 1452.37 1361.47 1455.94 Q1359.66 1459.48 1359.66 1466.61 Q1359.66 1473.71 1361.47 1477.28 Q1363.3 1480.82 1366.91 1480.82 Q1370.54 1480.82 1372.35 1477.28 Q1374.18 1473.71 1374.18 1466.61 Q1374.18 1459.48 1372.35 1455.94 Q1370.54 1452.37 1366.91 1452.37 M1366.91 1448.67 Q1372.72 1448.67 1375.78 1453.27 Q1378.85 1457.86 1378.85 1466.61 Q1378.85 1475.33 1375.78 1479.94 Q1372.72 1484.52 1366.91 1484.52 Q1361.1 1484.52 1358.02 1479.94 Q1354.97 1475.33 1354.97 1466.61 Q1354.97 1457.86 1358.02 1453.27 Q1361.1 1448.67 1366.91 1448.67 Z\" fill=\"#000000\" fill-rule=\"evenodd\" fill-opacity=\"1\" /><path clip-path=\"url(#clip580)\" d=\"M 0 0 M1793.38 1449.29 L1815.6 1449.29 L1815.6 1451.28 L1803.06 1483.85 L1798.17 1483.85 L1809.98 1453.23 L1793.38 1453.23 L1793.38 1449.29 Z\" fill=\"#000000\" fill-rule=\"evenodd\" fill-opacity=\"1\" /><path clip-path=\"url(#clip580)\" d=\"M 0 0 M1820.72 1449.29 L1839.07 1449.29 L1839.07 1453.23 L1825 1453.23 L1825 1461.7 Q1826.02 1461.35 1827.04 1461.19 Q1828.06 1461 1829.07 1461 Q1834.86 1461 1838.24 1464.18 Q1841.62 1467.35 1841.62 1472.76 Q1841.62 1478.34 1838.15 1481.44 Q1834.68 1484.52 1828.36 1484.52 Q1826.18 1484.52 1823.91 1484.15 Q1821.67 1483.78 1819.26 1483.04 L1819.26 1478.34 Q1821.34 1479.48 1823.56 1480.03 Q1825.79 1480.59 1828.26 1480.59 Q1832.27 1480.59 1834.61 1478.48 Q1836.94 1476.38 1836.94 1472.76 Q1836.94 1469.15 1834.61 1467.05 Q1832.27 1464.94 1828.26 1464.94 Q1826.39 1464.94 1824.51 1465.36 Q1822.66 1465.77 1820.72 1466.65 L1820.72 1449.29 Z\" fill=\"#000000\" fill-rule=\"evenodd\" fill-opacity=\"1\" /><path clip-path=\"url(#clip580)\" d=\"M 0 0 M1856.69 1452.37 Q1853.08 1452.37 1851.25 1455.94 Q1849.44 1459.48 1849.44 1466.61 Q1849.44 1473.71 1851.25 1477.28 Q1853.08 1480.82 1856.69 1480.82 Q1860.32 1480.82 1862.13 1477.28 Q1863.96 1473.71 1863.96 1466.61 Q1863.96 1459.48 1862.13 1455.94 Q1860.32 1452.37 1856.69 1452.37 M1856.69 1448.67 Q1862.5 1448.67 1865.56 1453.27 Q1868.63 1457.86 1868.63 1466.61 Q1868.63 1475.33 1865.56 1479.94 Q1862.5 1484.52 1856.69 1484.52 Q1850.88 1484.52 1847.8 1479.94 Q1844.75 1475.33 1844.75 1466.61 Q1844.75 1457.86 1847.8 1453.27 Q1850.88 1448.67 1856.69 1448.67 Z\" fill=\"#000000\" fill-rule=\"evenodd\" fill-opacity=\"1\" /><path clip-path=\"url(#clip580)\" d=\"M 0 0 M2271.22 1479.92 L2278.85 1479.92 L2278.85 1453.55 L2270.54 1455.22 L2270.54 1450.96 L2278.81 1449.29 L2283.48 1449.29 L2283.48 1479.92 L2291.12 1479.92 L2291.12 1483.85 L2271.22 1483.85 L2271.22 1479.92 Z\" fill=\"#000000\" fill-rule=\"evenodd\" fill-opacity=\"1\" /><path clip-path=\"url(#clip580)\" d=\"M 0 0 M2306.19 1452.37 Q2302.58 1452.37 2300.75 1455.94 Q2298.95 1459.48 2298.95 1466.61 Q2298.95 1473.71 2300.75 1477.28 Q2302.58 1480.82 2306.19 1480.82 Q2309.83 1480.82 2311.63 1477.28 Q2313.46 1473.71 2313.46 1466.61 Q2313.46 1459.48 2311.63 1455.94 Q2309.83 1452.37 2306.19 1452.37 M2306.19 1448.67 Q2312 1448.67 2315.06 1453.27 Q2318.14 1457.86 2318.14 1466.61 Q2318.14 1475.33 2315.06 1479.94 Q2312 1484.52 2306.19 1484.52 Q2300.38 1484.52 2297.3 1479.94 Q2294.25 1475.33 2294.25 1466.61 Q2294.25 1457.86 2297.3 1453.27 Q2300.38 1448.67 2306.19 1448.67 Z\" fill=\"#000000\" fill-rule=\"evenodd\" fill-opacity=\"1\" /><path clip-path=\"url(#clip580)\" d=\"M 0 0 M2333.21 1452.37 Q2329.59 1452.37 2327.77 1455.94 Q2325.96 1459.48 2325.96 1466.61 Q2325.96 1473.71 2327.77 1477.28 Q2329.59 1480.82 2333.21 1480.82 Q2336.84 1480.82 2338.65 1477.28 Q2340.47 1473.71 2340.47 1466.61 Q2340.47 1459.48 2338.65 1455.94 Q2336.84 1452.37 2333.21 1452.37 M2333.21 1448.67 Q2339.02 1448.67 2342.07 1453.27 Q2345.15 1457.86 2345.15 1466.61 Q2345.15 1475.33 2342.07 1479.94 Q2339.02 1484.52 2333.21 1484.52 Q2327.4 1484.52 2324.32 1479.94 Q2321.26 1475.33 2321.26 1466.61 Q2321.26 1457.86 2324.32 1453.27 Q2327.4 1448.67 2333.21 1448.67 Z\" fill=\"#000000\" fill-rule=\"evenodd\" fill-opacity=\"1\" /><path clip-path=\"url(#clip580)\" d=\"M 0 0 M2360.22 1452.37 Q2356.61 1452.37 2354.78 1455.94 Q2352.97 1459.48 2352.97 1466.61 Q2352.97 1473.71 2354.78 1477.28 Q2356.61 1480.82 2360.22 1480.82 Q2363.85 1480.82 2365.66 1477.28 Q2367.49 1473.71 2367.49 1466.61 Q2367.49 1459.48 2365.66 1455.94 Q2363.85 1452.37 2360.22 1452.37 M2360.22 1448.67 Q2366.03 1448.67 2369.09 1453.27 Q2372.16 1457.86 2372.16 1466.61 Q2372.16 1475.33 2369.09 1479.94 Q2366.03 1484.52 2360.22 1484.52 Q2354.41 1484.52 2351.33 1479.94 Q2348.28 1475.33 2348.28 1466.61 Q2348.28 1457.86 2351.33 1453.27 Q2354.41 1448.67 2360.22 1448.67 Z\" fill=\"#000000\" fill-rule=\"evenodd\" fill-opacity=\"1\" /><path clip-path=\"url(#clip580)\" d=\"M 0 0 M1288.79 1510.27 L1288.79 1520.4 L1300.85 1520.4 L1300.85 1524.95 L1288.79 1524.95 L1288.79 1544.3 Q1288.79 1548.66 1289.96 1549.9 Q1291.17 1551.14 1294.83 1551.14 L1300.85 1551.14 L1300.85 1556.04 L1294.83 1556.04 Q1288.05 1556.04 1285.47 1553.53 Q1282.9 1550.98 1282.9 1544.3 L1282.9 1524.95 L1278.6 1524.95 L1278.6 1520.4 L1282.9 1520.4 L1282.9 1510.27 L1288.79 1510.27 Z\" fill=\"#000000\" fill-rule=\"evenodd\" fill-opacity=\"1\" /><path clip-path=\"url(#clip580)\" d=\"M 0 0 M1327.65 1525.87 Q1326.66 1525.3 1325.48 1525.04 Q1324.34 1524.76 1322.94 1524.76 Q1317.97 1524.76 1315.3 1528 Q1312.66 1531.22 1312.66 1537.27 L1312.66 1556.04 L1306.77 1556.04 L1306.77 1520.4 L1312.66 1520.4 L1312.66 1525.93 Q1314.5 1522.69 1317.46 1521.13 Q1320.42 1519.54 1324.66 1519.54 Q1325.26 1519.54 1325.99 1519.63 Q1326.72 1519.7 1327.62 1519.85 L1327.65 1525.87 Z\" fill=\"#000000\" fill-rule=\"evenodd\" fill-opacity=\"1\" /><path clip-path=\"url(#clip580)\" d=\"M 0 0 M1333.79 1520.4 L1339.65 1520.4 L1339.65 1556.04 L1333.79 1556.04 L1333.79 1520.4 M1333.79 1506.52 L1339.65 1506.52 L1339.65 1513.93 L1333.79 1513.93 L1333.79 1506.52 Z\" fill=\"#000000\" fill-rule=\"evenodd\" fill-opacity=\"1\" /><path clip-path=\"url(#clip580)\" d=\"M 0 0 M1361.99 1538.12 Q1354.89 1538.12 1352.16 1539.75 Q1349.42 1541.37 1349.42 1545.29 Q1349.42 1548.4 1351.46 1550.25 Q1353.52 1552.07 1357.06 1552.07 Q1361.93 1552.07 1364.86 1548.63 Q1367.82 1545.16 1367.82 1539.43 L1367.82 1538.12 L1361.99 1538.12 M1373.67 1535.71 L1373.67 1556.04 L1367.82 1556.04 L1367.82 1550.63 Q1365.81 1553.88 1362.82 1555.44 Q1359.83 1556.97 1355.5 1556.97 Q1350.02 1556.97 1346.78 1553.91 Q1343.56 1550.82 1343.56 1545.67 Q1343.56 1539.65 1347.57 1536.6 Q1351.61 1533.54 1359.6 1533.54 L1367.82 1533.54 L1367.82 1532.97 Q1367.82 1528.93 1365.14 1526.73 Q1362.5 1524.5 1357.69 1524.5 Q1354.64 1524.5 1351.74 1525.23 Q1348.85 1525.97 1346.17 1527.43 L1346.17 1522.02 Q1349.39 1520.78 1352.41 1520.17 Q1355.43 1519.54 1358.3 1519.54 Q1366.03 1519.54 1369.85 1523.55 Q1373.67 1527.56 1373.67 1535.71 Z\" fill=\"#000000\" fill-rule=\"evenodd\" fill-opacity=\"1\" /><path clip-path=\"url(#clip580)\" d=\"M 0 0 M1379.81 1506.52 L1385.67 1506.52 L1385.67 1556.04 L1379.81 1556.04 L1379.81 1506.52 Z\" fill=\"#000000\" fill-rule=\"evenodd\" fill-opacity=\"1\" /><path clip-path=\"url(#clip580)\" d=\"M 0 0 M1414.54 1521.45 L1414.54 1526.98 Q1412.06 1525.71 1409.38 1525.07 Q1406.71 1524.44 1403.85 1524.44 Q1399.48 1524.44 1397.29 1525.77 Q1395.12 1527.11 1395.12 1529.79 Q1395.12 1531.82 1396.68 1533 Q1398.24 1534.15 1402.95 1535.2 L1404.96 1535.64 Q1411.2 1536.98 1413.81 1539.43 Q1416.45 1541.85 1416.45 1546.21 Q1416.45 1551.17 1412.5 1554.07 Q1408.59 1556.97 1401.71 1556.97 Q1398.85 1556.97 1395.73 1556.39 Q1392.64 1555.85 1389.2 1554.74 L1389.2 1548.69 Q1392.45 1550.38 1395.6 1551.24 Q1398.75 1552.07 1401.84 1552.07 Q1405.98 1552.07 1408.21 1550.66 Q1410.43 1549.23 1410.43 1546.65 Q1410.43 1544.27 1408.81 1542.99 Q1407.22 1541.72 1401.78 1540.54 L1399.74 1540.07 Q1394.3 1538.92 1391.88 1536.56 Q1389.46 1534.18 1389.46 1530.04 Q1389.46 1525.01 1393.02 1522.27 Q1396.59 1519.54 1403.14 1519.54 Q1406.39 1519.54 1409.26 1520.01 Q1412.12 1520.49 1414.54 1521.45 Z\" fill=\"#000000\" fill-rule=\"evenodd\" fill-opacity=\"1\" /><polyline clip-path=\"url(#clip582)\" style=\"stroke:#000000; stroke-width:2; stroke-opacity:0.1; fill:none\" points=\"\n",
       "  342.293,1321.46 2352.76,1321.46 \n",
       "  \"/>\n",
       "<polyline clip-path=\"url(#clip582)\" style=\"stroke:#000000; stroke-width:2; stroke-opacity:0.1; fill:none\" points=\"\n",
       "  342.293,1102.83 2352.76,1102.83 \n",
       "  \"/>\n",
       "<polyline clip-path=\"url(#clip582)\" style=\"stroke:#000000; stroke-width:2; stroke-opacity:0.1; fill:none\" points=\"\n",
       "  342.293,884.204 2352.76,884.204 \n",
       "  \"/>\n",
       "<polyline clip-path=\"url(#clip582)\" style=\"stroke:#000000; stroke-width:2; stroke-opacity:0.1; fill:none\" points=\"\n",
       "  342.293,665.576 2352.76,665.576 \n",
       "  \"/>\n",
       "<polyline clip-path=\"url(#clip582)\" style=\"stroke:#000000; stroke-width:2; stroke-opacity:0.1; fill:none\" points=\"\n",
       "  342.293,446.949 2352.76,446.949 \n",
       "  \"/>\n",
       "<polyline clip-path=\"url(#clip582)\" style=\"stroke:#000000; stroke-width:2; stroke-opacity:0.1; fill:none\" points=\"\n",
       "  342.293,228.322 2352.76,228.322 \n",
       "  \"/>\n",
       "<polyline clip-path=\"url(#clip580)\" style=\"stroke:#000000; stroke-width:4; stroke-opacity:1; fill:none\" points=\"\n",
       "  342.293,1423.18 342.293,123.472 \n",
       "  \"/>\n",
       "<polyline clip-path=\"url(#clip580)\" style=\"stroke:#000000; stroke-width:4; stroke-opacity:1; fill:none\" points=\"\n",
       "  342.293,1321.46 366.419,1321.46 \n",
       "  \"/>\n",
       "<polyline clip-path=\"url(#clip580)\" style=\"stroke:#000000; stroke-width:4; stroke-opacity:1; fill:none\" points=\"\n",
       "  342.293,1102.83 366.419,1102.83 \n",
       "  \"/>\n",
       "<polyline clip-path=\"url(#clip580)\" style=\"stroke:#000000; stroke-width:4; stroke-opacity:1; fill:none\" points=\"\n",
       "  342.293,884.204 366.419,884.204 \n",
       "  \"/>\n",
       "<polyline clip-path=\"url(#clip580)\" style=\"stroke:#000000; stroke-width:4; stroke-opacity:1; fill:none\" points=\"\n",
       "  342.293,665.576 366.419,665.576 \n",
       "  \"/>\n",
       "<polyline clip-path=\"url(#clip580)\" style=\"stroke:#000000; stroke-width:4; stroke-opacity:1; fill:none\" points=\"\n",
       "  342.293,446.949 366.419,446.949 \n",
       "  \"/>\n",
       "<polyline clip-path=\"url(#clip580)\" style=\"stroke:#000000; stroke-width:4; stroke-opacity:1; fill:none\" points=\"\n",
       "  342.293,228.322 366.419,228.322 \n",
       "  \"/>\n",
       "<path clip-path=\"url(#clip580)\" d=\"M 0 0 M127.246 1328.77 Q123.913 1328.77 121.992 1330.56 Q120.093 1332.34 120.093 1335.46 Q120.093 1338.59 121.992 1340.37 Q123.913 1342.15 127.246 1342.15 Q130.58 1342.15 132.501 1340.37 Q134.422 1338.57 134.422 1335.46 Q134.422 1332.34 132.501 1330.56 Q130.603 1328.77 127.246 1328.77 M122.57 1326.78 Q119.561 1326.04 117.871 1323.98 Q116.205 1321.92 116.205 1318.96 Q116.205 1314.82 119.144 1312.41 Q122.107 1310 127.246 1310 Q132.408 1310 135.348 1312.41 Q138.288 1314.82 138.288 1318.96 Q138.288 1321.92 136.598 1323.98 Q134.931 1326.04 131.945 1326.78 Q135.325 1327.57 137.2 1329.86 Q139.098 1332.15 139.098 1335.46 Q139.098 1340.49 136.019 1343.17 Q132.964 1345.86 127.246 1345.86 Q121.529 1345.86 118.45 1343.17 Q115.394 1340.49 115.394 1335.46 Q115.394 1332.15 117.293 1329.86 Q119.191 1327.57 122.57 1326.78 M120.857 1319.4 Q120.857 1322.08 122.524 1323.59 Q124.214 1325.09 127.246 1325.09 Q130.255 1325.09 131.945 1323.59 Q133.658 1322.08 133.658 1319.4 Q133.658 1316.71 131.945 1315.21 Q130.255 1313.7 127.246 1313.7 Q124.214 1313.7 122.524 1315.21 Q120.857 1316.71 120.857 1319.4 Z\" fill=\"#000000\" fill-rule=\"evenodd\" fill-opacity=\"1\" /><path clip-path=\"url(#clip580)\" d=\"M 0 0 M144.167 1339.31 L149.052 1339.31 L149.052 1345.19 L144.167 1345.19 L144.167 1339.31 Z\" fill=\"#000000\" fill-rule=\"evenodd\" fill-opacity=\"1\" /><path clip-path=\"url(#clip580)\" d=\"M 0 0 M154.167 1310.63 L172.524 1310.63 L172.524 1314.56 L158.45 1314.56 L158.45 1323.03 Q159.468 1322.69 160.487 1322.52 Q161.505 1322.34 162.524 1322.34 Q168.311 1322.34 171.69 1325.51 Q175.07 1328.68 175.07 1334.1 Q175.07 1339.68 171.598 1342.78 Q168.126 1345.86 161.806 1345.86 Q159.63 1345.86 157.362 1345.49 Q155.116 1345.12 152.709 1344.38 L152.709 1339.68 Q154.792 1340.81 157.015 1341.37 Q159.237 1341.92 161.714 1341.92 Q165.718 1341.92 168.056 1339.82 Q170.394 1337.71 170.394 1334.1 Q170.394 1330.49 168.056 1328.38 Q165.718 1326.27 161.714 1326.27 Q159.839 1326.27 157.964 1326.69 Q156.112 1327.11 154.167 1327.99 L154.167 1310.63 Z\" fill=\"#000000\" fill-rule=\"evenodd\" fill-opacity=\"1\" /><path clip-path=\"url(#clip580)\" d=\"M 0 0 M190.139 1313.7 Q186.528 1313.7 184.7 1317.27 Q182.894 1320.81 182.894 1327.94 Q182.894 1335.05 184.7 1338.61 Q186.528 1342.15 190.139 1342.15 Q193.774 1342.15 195.579 1338.61 Q197.408 1335.05 197.408 1327.94 Q197.408 1320.81 195.579 1317.27 Q193.774 1313.7 190.139 1313.7 M190.139 1310 Q195.95 1310 199.005 1314.61 Q202.084 1319.19 202.084 1327.94 Q202.084 1336.67 199.005 1341.27 Q195.95 1345.86 190.139 1345.86 Q184.329 1345.86 181.251 1341.27 Q178.195 1336.67 178.195 1327.94 Q178.195 1319.19 181.251 1314.61 Q184.329 1310 190.139 1310 Z\" fill=\"#000000\" fill-rule=\"evenodd\" fill-opacity=\"1\" /><path clip-path=\"url(#clip580)\" d=\"M 0 0 M235.324 1319.72 L224.746 1330.35 L235.324 1340.93 L232.57 1343.73 L221.945 1333.1 L211.32 1343.73 L208.588 1340.93 L219.144 1330.35 L208.588 1319.72 L211.32 1316.92 L221.945 1327.55 L232.57 1316.92 L235.324 1319.72 Z\" fill=\"#000000\" fill-rule=\"evenodd\" fill-opacity=\"1\" /><path clip-path=\"url(#clip580)\" d=\"M 0 0 M241.204 1341.25 L248.843 1341.25 L248.843 1314.89 L240.533 1316.55 L240.533 1312.29 L248.796 1310.63 L253.472 1310.63 L253.472 1341.25 L261.111 1341.25 L261.111 1345.19 L241.204 1345.19 L241.204 1341.25 Z\" fill=\"#000000\" fill-rule=\"evenodd\" fill-opacity=\"1\" /><path clip-path=\"url(#clip580)\" d=\"M 0 0 M276.181 1313.7 Q272.569 1313.7 270.741 1317.27 Q268.935 1320.81 268.935 1327.94 Q268.935 1335.05 270.741 1338.61 Q272.569 1342.15 276.181 1342.15 Q279.815 1342.15 281.62 1338.61 Q283.449 1335.05 283.449 1327.94 Q283.449 1320.81 281.62 1317.27 Q279.815 1313.7 276.181 1313.7 M276.181 1310 Q281.991 1310 285.046 1314.61 Q288.125 1319.19 288.125 1327.94 Q288.125 1336.67 285.046 1341.27 Q281.991 1345.86 276.181 1345.86 Q270.37 1345.86 267.292 1341.27 Q264.236 1336.67 264.236 1327.94 Q264.236 1319.19 267.292 1314.61 Q270.37 1310 276.181 1310 Z\" fill=\"#000000\" fill-rule=\"evenodd\" fill-opacity=\"1\" /><path clip-path=\"url(#clip580)\" d=\"M 0 0 M289.31 1289.7 L304.224 1289.7 L304.224 1292.89 L292.789 1292.89 L292.789 1299.78 Q293.617 1299.49 294.444 1299.36 Q295.272 1299.21 296.099 1299.21 Q300.801 1299.21 303.547 1301.79 Q306.293 1304.37 306.293 1308.77 Q306.293 1313.3 303.472 1315.82 Q300.651 1318.32 295.516 1318.32 Q293.748 1318.32 291.905 1318.02 Q290.081 1317.72 288.125 1317.12 L288.125 1313.3 Q289.818 1314.22 291.623 1314.67 Q293.429 1315.12 295.441 1315.12 Q298.695 1315.12 300.595 1313.41 Q302.494 1311.7 302.494 1308.77 Q302.494 1305.83 300.595 1304.12 Q298.695 1302.41 295.441 1302.41 Q293.918 1302.41 292.394 1302.75 Q290.89 1303.09 289.31 1303.8 L289.31 1289.7 Z\" fill=\"#000000\" fill-rule=\"evenodd\" fill-opacity=\"1\" /><path clip-path=\"url(#clip580)\" d=\"M 0 0 M116.482 1125.84 L116.482 1121.58 Q118.242 1122.42 120.047 1122.86 Q121.853 1123.29 123.589 1123.29 Q128.218 1123.29 130.649 1120.19 Q133.103 1117.07 133.45 1110.73 Q132.107 1112.72 130.047 1113.78 Q127.987 1114.85 125.487 1114.85 Q120.302 1114.85 117.269 1111.72 Q114.26 1108.57 114.26 1103.13 Q114.26 1097.81 117.408 1094.59 Q120.556 1091.37 125.788 1091.37 Q131.783 1091.37 134.931 1095.98 Q138.103 1100.56 138.103 1109.31 Q138.103 1117.48 134.214 1122.37 Q130.348 1127.23 123.797 1127.23 Q122.038 1127.23 120.232 1126.88 Q118.427 1126.54 116.482 1125.84 M125.788 1111.19 Q128.936 1111.19 130.765 1109.04 Q132.617 1106.88 132.617 1103.13 Q132.617 1099.41 130.765 1097.25 Q128.936 1095.08 125.788 1095.08 Q122.64 1095.08 120.788 1097.25 Q118.959 1099.41 118.959 1103.13 Q118.959 1106.88 120.788 1109.04 Q122.64 1111.19 125.788 1111.19 Z\" fill=\"#000000\" fill-rule=\"evenodd\" fill-opacity=\"1\" /><path clip-path=\"url(#clip580)\" d=\"M 0 0 M143.172 1120.68 L148.056 1120.68 L148.056 1126.56 L143.172 1126.56 L143.172 1120.68 Z\" fill=\"#000000\" fill-rule=\"evenodd\" fill-opacity=\"1\" /><path clip-path=\"url(#clip580)\" d=\"M 0 0 M163.126 1095.08 Q159.515 1095.08 157.686 1098.64 Q155.88 1102.18 155.88 1109.31 Q155.88 1116.42 157.686 1119.98 Q159.515 1123.53 163.126 1123.53 Q166.76 1123.53 168.565 1119.98 Q170.394 1116.42 170.394 1109.31 Q170.394 1102.18 168.565 1098.64 Q166.76 1095.08 163.126 1095.08 M163.126 1091.37 Q168.936 1091.37 171.991 1095.98 Q175.07 1100.56 175.07 1109.31 Q175.07 1118.04 171.991 1122.65 Q168.936 1127.23 163.126 1127.23 Q157.315 1127.23 154.237 1122.65 Q151.181 1118.04 151.181 1109.31 Q151.181 1100.56 154.237 1095.98 Q157.315 1091.37 163.126 1091.37 Z\" fill=\"#000000\" fill-rule=\"evenodd\" fill-opacity=\"1\" /><path clip-path=\"url(#clip580)\" d=\"M 0 0 M190.139 1095.08 Q186.528 1095.08 184.7 1098.64 Q182.894 1102.18 182.894 1109.31 Q182.894 1116.42 184.7 1119.98 Q186.528 1123.53 190.139 1123.53 Q193.774 1123.53 195.579 1119.98 Q197.408 1116.42 197.408 1109.31 Q197.408 1102.18 195.579 1098.64 Q193.774 1095.08 190.139 1095.08 M190.139 1091.37 Q195.95 1091.37 199.005 1095.98 Q202.084 1100.56 202.084 1109.31 Q202.084 1118.04 199.005 1122.65 Q195.95 1127.23 190.139 1127.23 Q184.329 1127.23 181.251 1122.65 Q178.195 1118.04 178.195 1109.31 Q178.195 1100.56 181.251 1095.98 Q184.329 1091.37 190.139 1091.37 Z\" fill=\"#000000\" fill-rule=\"evenodd\" fill-opacity=\"1\" /><path clip-path=\"url(#clip580)\" d=\"M 0 0 M235.324 1101.1 L224.746 1111.72 L235.324 1122.3 L232.57 1125.1 L221.945 1114.48 L211.32 1125.1 L208.588 1122.3 L219.144 1111.72 L208.588 1101.1 L211.32 1098.3 L221.945 1108.92 L232.57 1098.3 L235.324 1101.1 Z\" fill=\"#000000\" fill-rule=\"evenodd\" fill-opacity=\"1\" /><path clip-path=\"url(#clip580)\" d=\"M 0 0 M241.204 1122.62 L248.843 1122.62 L248.843 1096.26 L240.533 1097.92 L240.533 1093.67 L248.796 1092 L253.472 1092 L253.472 1122.62 L261.111 1122.62 L261.111 1126.56 L241.204 1126.56 L241.204 1122.62 Z\" fill=\"#000000\" fill-rule=\"evenodd\" fill-opacity=\"1\" /><path clip-path=\"url(#clip580)\" d=\"M 0 0 M276.181 1095.08 Q272.569 1095.08 270.741 1098.64 Q268.935 1102.18 268.935 1109.31 Q268.935 1116.42 270.741 1119.98 Q272.569 1123.53 276.181 1123.53 Q279.815 1123.53 281.62 1119.98 Q283.449 1116.42 283.449 1109.31 Q283.449 1102.18 281.62 1098.64 Q279.815 1095.08 276.181 1095.08 M276.181 1091.37 Q281.991 1091.37 285.046 1095.98 Q288.125 1100.56 288.125 1109.31 Q288.125 1118.04 285.046 1122.65 Q281.991 1127.23 276.181 1127.23 Q270.37 1127.23 267.292 1122.65 Q264.236 1118.04 264.236 1109.31 Q264.236 1100.56 267.292 1095.98 Q270.37 1091.37 276.181 1091.37 Z\" fill=\"#000000\" fill-rule=\"evenodd\" fill-opacity=\"1\" /><path clip-path=\"url(#clip580)\" d=\"M 0 0 M289.31 1071.07 L304.224 1071.07 L304.224 1074.27 L292.789 1074.27 L292.789 1081.15 Q293.617 1080.87 294.444 1080.74 Q295.272 1080.59 296.099 1080.59 Q300.801 1080.59 303.547 1083.16 Q306.293 1085.74 306.293 1090.14 Q306.293 1094.67 303.472 1097.19 Q300.651 1099.69 295.516 1099.69 Q293.748 1099.69 291.905 1099.39 Q290.081 1099.09 288.125 1098.49 L288.125 1094.67 Q289.818 1095.59 291.623 1096.05 Q293.429 1096.5 295.441 1096.5 Q298.695 1096.5 300.595 1094.79 Q302.494 1093.07 302.494 1090.14 Q302.494 1087.21 300.595 1085.49 Q298.695 1083.78 295.441 1083.78 Q293.918 1083.78 292.394 1084.12 Q290.89 1084.46 289.31 1085.17 L289.31 1071.07 Z\" fill=\"#000000\" fill-rule=\"evenodd\" fill-opacity=\"1\" /><path clip-path=\"url(#clip580)\" d=\"M 0 0 M117.478 907.214 L117.478 902.955 Q119.237 903.788 121.043 904.228 Q122.848 904.668 124.584 904.668 Q129.214 904.668 131.644 901.566 Q134.098 898.441 134.445 892.098 Q133.103 894.089 131.042 895.154 Q128.982 896.219 126.482 896.219 Q121.297 896.219 118.265 893.094 Q115.256 889.945 115.256 884.506 Q115.256 879.182 118.404 875.964 Q121.552 872.746 126.783 872.746 Q132.779 872.746 135.927 877.353 Q139.098 881.936 139.098 890.686 Q139.098 898.857 135.209 903.742 Q131.343 908.603 124.793 908.603 Q123.033 908.603 121.228 908.256 Q119.422 907.908 117.478 907.214 M126.783 892.561 Q129.931 892.561 131.76 890.408 Q133.612 888.256 133.612 884.506 Q133.612 880.779 131.76 878.626 Q129.931 876.45 126.783 876.45 Q123.635 876.45 121.783 878.626 Q119.955 880.779 119.955 884.506 Q119.955 888.256 121.783 890.408 Q123.635 892.561 126.783 892.561 Z\" fill=\"#000000\" fill-rule=\"evenodd\" fill-opacity=\"1\" /><path clip-path=\"url(#clip580)\" d=\"M 0 0 M144.167 902.052 L149.052 902.052 L149.052 907.931 L144.167 907.931 L144.167 902.052 Z\" fill=\"#000000\" fill-rule=\"evenodd\" fill-opacity=\"1\" /><path clip-path=\"url(#clip580)\" d=\"M 0 0 M154.167 873.371 L172.524 873.371 L172.524 877.307 L158.45 877.307 L158.45 885.779 Q159.468 885.432 160.487 885.27 Q161.505 885.084 162.524 885.084 Q168.311 885.084 171.69 888.256 Q175.07 891.427 175.07 896.844 Q175.07 902.422 171.598 905.524 Q168.126 908.603 161.806 908.603 Q159.63 908.603 157.362 908.232 Q155.116 907.862 152.709 907.121 L152.709 902.422 Q154.792 903.556 157.015 904.112 Q159.237 904.668 161.714 904.668 Q165.718 904.668 168.056 902.561 Q170.394 900.455 170.394 896.844 Q170.394 893.232 168.056 891.126 Q165.718 889.02 161.714 889.02 Q159.839 889.02 157.964 889.436 Q156.112 889.853 154.167 890.732 L154.167 873.371 Z\" fill=\"#000000\" fill-rule=\"evenodd\" fill-opacity=\"1\" /><path clip-path=\"url(#clip580)\" d=\"M 0 0 M190.139 876.45 Q186.528 876.45 184.7 880.015 Q182.894 883.557 182.894 890.686 Q182.894 897.793 184.7 901.357 Q186.528 904.899 190.139 904.899 Q193.774 904.899 195.579 901.357 Q197.408 897.793 197.408 890.686 Q197.408 883.557 195.579 880.015 Q193.774 876.45 190.139 876.45 M190.139 872.746 Q195.95 872.746 199.005 877.353 Q202.084 881.936 202.084 890.686 Q202.084 899.413 199.005 904.019 Q195.95 908.603 190.139 908.603 Q184.329 908.603 181.251 904.019 Q178.195 899.413 178.195 890.686 Q178.195 881.936 181.251 877.353 Q184.329 872.746 190.139 872.746 Z\" fill=\"#000000\" fill-rule=\"evenodd\" fill-opacity=\"1\" /><path clip-path=\"url(#clip580)\" d=\"M 0 0 M235.324 882.469 L224.746 893.094 L235.324 903.672 L232.57 906.473 L221.945 895.848 L211.32 906.473 L208.588 903.672 L219.144 893.094 L208.588 882.469 L211.32 879.668 L221.945 890.293 L232.57 879.668 L235.324 882.469 Z\" fill=\"#000000\" fill-rule=\"evenodd\" fill-opacity=\"1\" /><path clip-path=\"url(#clip580)\" d=\"M 0 0 M241.204 903.996 L248.843 903.996 L248.843 877.631 L240.533 879.297 L240.533 875.038 L248.796 873.371 L253.472 873.371 L253.472 903.996 L261.111 903.996 L261.111 907.931 L241.204 907.931 L241.204 903.996 Z\" fill=\"#000000\" fill-rule=\"evenodd\" fill-opacity=\"1\" /><path clip-path=\"url(#clip580)\" d=\"M 0 0 M276.181 876.45 Q272.569 876.45 270.741 880.015 Q268.935 883.557 268.935 890.686 Q268.935 897.793 270.741 901.357 Q272.569 904.899 276.181 904.899 Q279.815 904.899 281.62 901.357 Q283.449 897.793 283.449 890.686 Q283.449 883.557 281.62 880.015 Q279.815 876.45 276.181 876.45 M276.181 872.746 Q281.991 872.746 285.046 877.353 Q288.125 881.936 288.125 890.686 Q288.125 899.413 285.046 904.019 Q281.991 908.603 276.181 908.603 Q270.37 908.603 267.292 904.019 Q264.236 899.413 264.236 890.686 Q264.236 881.936 267.292 877.353 Q270.37 872.746 276.181 872.746 Z\" fill=\"#000000\" fill-rule=\"evenodd\" fill-opacity=\"1\" /><path clip-path=\"url(#clip580)\" d=\"M 0 0 M289.31 852.441 L304.224 852.441 L304.224 855.638 L292.789 855.638 L292.789 862.522 Q293.617 862.24 294.444 862.108 Q295.272 861.958 296.099 861.958 Q300.801 861.958 303.547 864.534 Q306.293 867.111 306.293 871.512 Q306.293 876.045 303.472 878.565 Q300.651 881.066 295.516 881.066 Q293.748 881.066 291.905 880.766 Q290.081 880.465 288.125 879.863 L288.125 876.045 Q289.818 876.966 291.623 877.418 Q293.429 877.869 295.441 877.869 Q298.695 877.869 300.595 876.158 Q302.494 874.446 302.494 871.512 Q302.494 868.578 300.595 866.867 Q298.695 865.155 295.441 865.155 Q293.918 865.155 292.394 865.494 Q290.89 865.832 289.31 866.547 L289.31 852.441 Z\" fill=\"#000000\" fill-rule=\"evenodd\" fill-opacity=\"1\" /><path clip-path=\"url(#clip580)\" d=\"M 0 0 M116.973 685.369 L124.612 685.369 L124.612 659.003 L116.302 660.67 L116.302 656.411 L124.565 654.744 L129.241 654.744 L129.241 685.369 L136.88 685.369 L136.88 689.304 L116.973 689.304 L116.973 685.369 Z\" fill=\"#000000\" fill-rule=\"evenodd\" fill-opacity=\"1\" /><path clip-path=\"url(#clip580)\" d=\"M 0 0 M141.95 683.424 L146.834 683.424 L146.834 689.304 L141.95 689.304 L141.95 683.424 Z\" fill=\"#000000\" fill-rule=\"evenodd\" fill-opacity=\"1\" /><path clip-path=\"url(#clip580)\" d=\"M 0 0 M161.903 657.823 Q158.292 657.823 156.463 661.388 Q154.658 664.929 154.658 672.059 Q154.658 679.165 156.463 682.73 Q158.292 686.272 161.903 686.272 Q165.537 686.272 167.343 682.73 Q169.172 679.165 169.172 672.059 Q169.172 664.929 167.343 661.388 Q165.537 657.823 161.903 657.823 M161.903 654.119 Q167.713 654.119 170.769 658.726 Q173.848 663.309 173.848 672.059 Q173.848 680.786 170.769 685.392 Q167.713 689.975 161.903 689.975 Q156.093 689.975 153.014 685.392 Q149.959 680.786 149.959 672.059 Q149.959 663.309 153.014 658.726 Q156.093 654.119 161.903 654.119 Z\" fill=\"#000000\" fill-rule=\"evenodd\" fill-opacity=\"1\" /><path clip-path=\"url(#clip580)\" d=\"M 0 0 M188.917 657.823 Q185.306 657.823 183.477 661.388 Q181.672 664.929 181.672 672.059 Q181.672 679.165 183.477 682.73 Q185.306 686.272 188.917 686.272 Q192.551 686.272 194.357 682.73 Q196.185 679.165 196.185 672.059 Q196.185 664.929 194.357 661.388 Q192.551 657.823 188.917 657.823 M188.917 654.119 Q194.727 654.119 197.783 658.726 Q200.861 663.309 200.861 672.059 Q200.861 680.786 197.783 685.392 Q194.727 689.975 188.917 689.975 Q183.107 689.975 180.028 685.392 Q176.972 680.786 176.972 672.059 Q176.972 663.309 180.028 658.726 Q183.107 654.119 188.917 654.119 Z\" fill=\"#000000\" fill-rule=\"evenodd\" fill-opacity=\"1\" /><path clip-path=\"url(#clip580)\" d=\"M 0 0 M234.102 663.841 L223.523 674.466 L234.102 685.045 L231.347 687.846 L220.722 677.221 L210.097 687.846 L207.366 685.045 L217.921 674.466 L207.366 663.841 L210.097 661.04 L220.722 671.665 L231.347 661.04 L234.102 663.841 Z\" fill=\"#000000\" fill-rule=\"evenodd\" fill-opacity=\"1\" /><path clip-path=\"url(#clip580)\" d=\"M 0 0 M239.981 685.369 L247.62 685.369 L247.62 659.003 L239.31 660.67 L239.31 656.411 L247.574 654.744 L252.25 654.744 L252.25 685.369 L259.889 685.369 L259.889 689.304 L239.981 689.304 L239.981 685.369 Z\" fill=\"#000000\" fill-rule=\"evenodd\" fill-opacity=\"1\" /><path clip-path=\"url(#clip580)\" d=\"M 0 0 M274.958 657.823 Q271.347 657.823 269.518 661.388 Q267.713 664.929 267.713 672.059 Q267.713 679.165 269.518 682.73 Q271.347 686.272 274.958 686.272 Q278.592 686.272 280.398 682.73 Q282.227 679.165 282.227 672.059 Q282.227 664.929 280.398 661.388 Q278.592 657.823 274.958 657.823 M274.958 654.119 Q280.768 654.119 283.824 658.726 Q286.902 663.309 286.902 672.059 Q286.902 680.786 283.824 685.392 Q280.768 689.975 274.958 689.975 Q269.148 689.975 266.069 685.392 Q263.014 680.786 263.014 672.059 Q263.014 663.309 266.069 658.726 Q269.148 654.119 274.958 654.119 Z\" fill=\"#000000\" fill-rule=\"evenodd\" fill-opacity=\"1\" /><path clip-path=\"url(#clip580)\" d=\"M 0 0 M296.927 646.34 Q294.369 646.34 292.865 648.089 Q291.379 649.838 291.379 652.885 Q291.379 655.913 292.865 657.681 Q294.369 659.43 296.927 659.43 Q299.485 659.43 300.971 657.681 Q302.475 655.913 302.475 652.885 Q302.475 649.838 300.971 648.089 Q299.485 646.34 296.927 646.34 M304.469 634.434 L304.469 637.895 Q303.04 637.218 301.573 636.861 Q300.124 636.503 298.695 636.503 Q294.933 636.503 292.94 639.042 Q290.965 641.581 290.683 646.716 Q291.792 645.08 293.466 644.214 Q295.14 643.33 297.153 643.33 Q301.384 643.33 303.829 645.907 Q306.293 648.465 306.293 652.885 Q306.293 657.211 303.735 659.825 Q301.178 662.439 296.927 662.439 Q292.056 662.439 289.479 658.715 Q286.902 654.972 286.902 647.882 Q286.902 641.224 290.062 637.274 Q293.222 633.306 298.544 633.306 Q299.974 633.306 301.422 633.588 Q302.889 633.87 304.469 634.434 Z\" fill=\"#000000\" fill-rule=\"evenodd\" fill-opacity=\"1\" /><path clip-path=\"url(#clip580)\" d=\"M 0 0 M117.968 466.742 L125.607 466.742 L125.607 440.376 L117.297 442.043 L117.297 437.783 L125.561 436.117 L130.237 436.117 L130.237 466.742 L137.875 466.742 L137.875 470.677 L117.968 470.677 L117.968 466.742 Z\" fill=\"#000000\" fill-rule=\"evenodd\" fill-opacity=\"1\" /><path clip-path=\"url(#clip580)\" d=\"M 0 0 M142.945 464.797 L147.829 464.797 L147.829 470.677 L142.945 470.677 L142.945 464.797 Z\" fill=\"#000000\" fill-rule=\"evenodd\" fill-opacity=\"1\" /><path clip-path=\"url(#clip580)\" d=\"M 0 0 M162.898 439.195 Q159.287 439.195 157.459 442.76 Q155.653 446.302 155.653 453.431 Q155.653 460.538 157.459 464.103 Q159.287 467.644 162.898 467.644 Q166.533 467.644 168.338 464.103 Q170.167 460.538 170.167 453.431 Q170.167 446.302 168.338 442.76 Q166.533 439.195 162.898 439.195 M162.898 435.492 Q168.709 435.492 171.764 440.098 Q174.843 444.681 174.843 453.431 Q174.843 462.158 171.764 466.765 Q168.709 471.348 162.898 471.348 Q157.088 471.348 154.01 466.765 Q150.954 462.158 150.954 453.431 Q150.954 444.681 154.01 440.098 Q157.088 435.492 162.898 435.492 Z\" fill=\"#000000\" fill-rule=\"evenodd\" fill-opacity=\"1\" /><path clip-path=\"url(#clip580)\" d=\"M 0 0 M179.959 436.117 L198.315 436.117 L198.315 440.052 L184.241 440.052 L184.241 448.524 Q185.259 448.177 186.278 448.015 Q187.297 447.83 188.315 447.83 Q194.102 447.83 197.482 451.001 Q200.861 454.172 200.861 459.589 Q200.861 465.167 197.389 468.269 Q193.917 471.348 187.597 471.348 Q185.422 471.348 183.153 470.978 Q180.908 470.607 178.5 469.867 L178.5 465.167 Q180.584 466.302 182.806 466.857 Q185.028 467.413 187.505 467.413 Q191.509 467.413 193.847 465.306 Q196.185 463.2 196.185 459.589 Q196.185 455.978 193.847 453.871 Q191.509 451.765 187.505 451.765 Q185.63 451.765 183.755 452.181 Q181.903 452.598 179.959 453.478 L179.959 436.117 Z\" fill=\"#000000\" fill-rule=\"evenodd\" fill-opacity=\"1\" /><path clip-path=\"url(#clip580)\" d=\"M 0 0 M234.102 445.214 L223.523 455.839 L234.102 466.417 L231.347 469.218 L220.722 458.593 L210.097 469.218 L207.366 466.417 L217.921 455.839 L207.366 445.214 L210.097 442.413 L220.722 453.038 L231.347 442.413 L234.102 445.214 Z\" fill=\"#000000\" fill-rule=\"evenodd\" fill-opacity=\"1\" /><path clip-path=\"url(#clip580)\" d=\"M 0 0 M239.981 466.742 L247.62 466.742 L247.62 440.376 L239.31 442.043 L239.31 437.783 L247.574 436.117 L252.25 436.117 L252.25 466.742 L259.889 466.742 L259.889 470.677 L239.981 470.677 L239.981 466.742 Z\" fill=\"#000000\" fill-rule=\"evenodd\" fill-opacity=\"1\" /><path clip-path=\"url(#clip580)\" d=\"M 0 0 M274.958 439.195 Q271.347 439.195 269.518 442.76 Q267.713 446.302 267.713 453.431 Q267.713 460.538 269.518 464.103 Q271.347 467.644 274.958 467.644 Q278.592 467.644 280.398 464.103 Q282.227 460.538 282.227 453.431 Q282.227 446.302 280.398 442.76 Q278.592 439.195 274.958 439.195 M274.958 435.492 Q280.768 435.492 283.824 440.098 Q286.902 444.681 286.902 453.431 Q286.902 462.158 283.824 466.765 Q280.768 471.348 274.958 471.348 Q269.148 471.348 266.069 466.765 Q263.014 462.158 263.014 453.431 Q263.014 444.681 266.069 440.098 Q269.148 435.492 274.958 435.492 Z\" fill=\"#000000\" fill-rule=\"evenodd\" fill-opacity=\"1\" /><path clip-path=\"url(#clip580)\" d=\"M 0 0 M296.927 427.712 Q294.369 427.712 292.865 429.461 Q291.379 431.211 291.379 434.257 Q291.379 437.285 292.865 439.053 Q294.369 440.802 296.927 440.802 Q299.485 440.802 300.971 439.053 Q302.475 437.285 302.475 434.257 Q302.475 431.211 300.971 429.461 Q299.485 427.712 296.927 427.712 M304.469 415.807 L304.469 419.268 Q303.04 418.591 301.573 418.233 Q300.124 417.876 298.695 417.876 Q294.933 417.876 292.94 420.415 Q290.965 422.954 290.683 428.088 Q291.792 426.452 293.466 425.587 Q295.14 424.703 297.153 424.703 Q301.384 424.703 303.829 427.28 Q306.293 429.838 306.293 434.257 Q306.293 438.583 303.735 441.197 Q301.178 443.812 296.927 443.812 Q292.056 443.812 289.479 440.088 Q286.902 436.345 286.902 429.255 Q286.902 422.597 290.062 418.647 Q293.222 414.679 298.544 414.679 Q299.974 414.679 301.422 414.961 Q302.889 415.243 304.469 415.807 Z\" fill=\"#000000\" fill-rule=\"evenodd\" fill-opacity=\"1\" /><path clip-path=\"url(#clip580)\" d=\"M 0 0 M118.2 248.114 L125.839 248.114 L125.839 221.749 L117.528 223.415 L117.528 219.156 L125.792 217.489 L130.468 217.489 L130.468 248.114 L138.107 248.114 L138.107 252.049 L118.2 252.049 L118.2 248.114 Z\" fill=\"#000000\" fill-rule=\"evenodd\" fill-opacity=\"1\" /><path clip-path=\"url(#clip580)\" d=\"M 0 0 M143.176 246.17 L148.061 246.17 L148.061 252.049 L143.176 252.049 L143.176 246.17 Z\" fill=\"#000000\" fill-rule=\"evenodd\" fill-opacity=\"1\" /><path clip-path=\"url(#clip580)\" d=\"M 0 0 M153.94 248.114 L161.579 248.114 L161.579 221.749 L153.269 223.415 L153.269 219.156 L161.533 217.489 L166.209 217.489 L166.209 248.114 L173.848 248.114 L173.848 252.049 L153.94 252.049 L153.94 248.114 Z\" fill=\"#000000\" fill-rule=\"evenodd\" fill-opacity=\"1\" /><path clip-path=\"url(#clip580)\" d=\"M 0 0 M188.917 220.568 Q185.306 220.568 183.477 224.133 Q181.672 227.674 181.672 234.804 Q181.672 241.911 183.477 245.475 Q185.306 249.017 188.917 249.017 Q192.551 249.017 194.357 245.475 Q196.185 241.911 196.185 234.804 Q196.185 227.674 194.357 224.133 Q192.551 220.568 188.917 220.568 M188.917 216.864 Q194.727 216.864 197.783 221.471 Q200.861 226.054 200.861 234.804 Q200.861 243.531 197.783 248.137 Q194.727 252.721 188.917 252.721 Q183.107 252.721 180.028 248.137 Q176.972 243.531 176.972 234.804 Q176.972 226.054 180.028 221.471 Q183.107 216.864 188.917 216.864 Z\" fill=\"#000000\" fill-rule=\"evenodd\" fill-opacity=\"1\" /><path clip-path=\"url(#clip580)\" d=\"M 0 0 M234.102 226.587 L223.523 237.211 L234.102 247.79 L231.347 250.591 L220.722 239.966 L210.097 250.591 L207.366 247.79 L217.921 237.211 L207.366 226.587 L210.097 223.786 L220.722 234.411 L231.347 223.786 L234.102 226.587 Z\" fill=\"#000000\" fill-rule=\"evenodd\" fill-opacity=\"1\" /><path clip-path=\"url(#clip580)\" d=\"M 0 0 M239.981 248.114 L247.62 248.114 L247.62 221.749 L239.31 223.415 L239.31 219.156 L247.574 217.489 L252.25 217.489 L252.25 248.114 L259.889 248.114 L259.889 252.049 L239.981 252.049 L239.981 248.114 Z\" fill=\"#000000\" fill-rule=\"evenodd\" fill-opacity=\"1\" /><path clip-path=\"url(#clip580)\" d=\"M 0 0 M274.958 220.568 Q271.347 220.568 269.518 224.133 Q267.713 227.674 267.713 234.804 Q267.713 241.911 269.518 245.475 Q271.347 249.017 274.958 249.017 Q278.592 249.017 280.398 245.475 Q282.227 241.911 282.227 234.804 Q282.227 227.674 280.398 224.133 Q278.592 220.568 274.958 220.568 M274.958 216.864 Q280.768 216.864 283.824 221.471 Q286.902 226.054 286.902 234.804 Q286.902 243.531 283.824 248.137 Q280.768 252.721 274.958 252.721 Q269.148 252.721 266.069 248.137 Q263.014 243.531 263.014 234.804 Q263.014 226.054 266.069 221.471 Q269.148 216.864 274.958 216.864 Z\" fill=\"#000000\" fill-rule=\"evenodd\" fill-opacity=\"1\" /><path clip-path=\"url(#clip580)\" d=\"M 0 0 M296.927 209.085 Q294.369 209.085 292.865 210.834 Q291.379 212.583 291.379 215.63 Q291.379 218.658 292.865 220.426 Q294.369 222.175 296.927 222.175 Q299.485 222.175 300.971 220.426 Q302.475 218.658 302.475 215.63 Q302.475 212.583 300.971 210.834 Q299.485 209.085 296.927 209.085 M304.469 197.18 L304.469 200.64 Q303.04 199.963 301.573 199.606 Q300.124 199.248 298.695 199.248 Q294.933 199.248 292.94 201.788 Q290.965 204.327 290.683 209.461 Q291.792 207.825 293.466 206.96 Q295.14 206.076 297.153 206.076 Q301.384 206.076 303.829 208.652 Q306.293 211.21 306.293 215.63 Q306.293 219.956 303.735 222.57 Q301.178 225.184 296.927 225.184 Q292.056 225.184 289.479 221.46 Q286.902 217.718 286.902 210.627 Q286.902 203.969 290.062 200.02 Q293.222 196.051 298.544 196.051 Q299.974 196.051 301.422 196.333 Q302.889 196.615 304.469 197.18 Z\" fill=\"#000000\" fill-rule=\"evenodd\" fill-opacity=\"1\" /><path clip-path=\"url(#clip580)\" d=\"M 0 0 M82.657 959.905 L101.563 959.905 L101.563 965.793 L52.3562 965.793 L52.3562 959.905 L57.7671 959.905 Q54.5842 958.059 53.0564 955.258 Q51.4968 952.425 51.4968 948.51 Q51.4968 942.017 56.6531 937.975 Q61.8093 933.901 70.212 933.901 Q78.6147 933.901 83.771 937.975 Q88.9272 942.017 88.9272 948.51 Q88.9272 952.425 87.3994 955.258 Q85.8398 958.059 82.657 959.905 M70.212 939.98 Q63.7508 939.98 60.0905 942.654 Q56.3984 945.296 56.3984 949.943 Q56.3984 954.589 60.0905 957.263 Q63.7508 959.905 70.212 959.905 Q76.6732 959.905 80.3653 957.263 Q84.0256 954.589 84.0256 949.943 Q84.0256 945.296 80.3653 942.654 Q76.6732 939.98 70.212 939.98 Z\" fill=\"#000000\" fill-rule=\"evenodd\" fill-opacity=\"1\" /><path clip-path=\"url(#clip580)\" d=\"M 0 0 M57.8307 907.101 Q57.2578 908.088 57.0032 909.266 Q56.7167 910.411 56.7167 911.812 Q56.7167 916.777 59.9632 919.451 Q63.1779 922.093 69.2253 922.093 L88.0042 922.093 L88.0042 927.981 L52.3562 927.981 L52.3562 922.093 L57.8944 922.093 Q54.6479 920.246 53.0883 917.286 Q51.4968 914.326 51.4968 910.093 Q51.4968 909.488 51.5923 908.756 Q51.656 908.024 51.8151 907.133 L57.8307 907.101 Z\" fill=\"#000000\" fill-rule=\"evenodd\" fill-opacity=\"1\" /><path clip-path=\"url(#clip580)\" d=\"M 0 0 M56.4621 888.577 Q56.4621 893.288 60.1542 896.025 Q63.8145 898.762 70.212 898.762 Q76.6095 898.762 80.3017 896.057 Q83.9619 893.32 83.9619 888.577 Q83.9619 883.898 80.2698 881.161 Q76.5777 878.424 70.212 878.424 Q63.8781 878.424 60.186 881.161 Q56.4621 883.898 56.4621 888.577 M51.4968 888.577 Q51.4968 880.938 56.4621 876.578 Q61.4273 872.217 70.212 872.217 Q78.9649 872.217 83.9619 876.578 Q88.9272 880.938 88.9272 888.577 Q88.9272 896.248 83.9619 900.608 Q78.9649 904.937 70.212 904.937 Q61.4273 904.937 56.4621 900.608 Q51.4968 896.248 51.4968 888.577 Z\" fill=\"#000000\" fill-rule=\"evenodd\" fill-opacity=\"1\" /><path clip-path=\"url(#clip580)\" d=\"M 0 0 M38.479 848.028 L43.3487 848.028 L43.3487 853.629 Q43.3487 856.78 44.6219 858.022 Q45.895 859.231 49.2052 859.231 L52.3562 859.231 L52.3562 849.587 L56.9077 849.587 L56.9077 859.231 L88.0042 859.231 L88.0042 865.119 L56.9077 865.119 L56.9077 870.721 L52.3562 870.721 L52.3562 865.119 L49.8736 865.119 Q43.9216 865.119 41.2162 862.35 Q38.479 859.581 38.479 853.566 L38.479 848.028 Z\" fill=\"#000000\" fill-rule=\"evenodd\" fill-opacity=\"1\" /><path clip-path=\"url(#clip580)\" d=\"M 0 0 M52.3562 841.885 L52.3562 836.028 L88.0042 836.028 L88.0042 841.885 L52.3562 841.885 M38.479 841.885 L38.479 836.028 L45.895 836.028 L45.895 841.885 L38.479 841.885 Z\" fill=\"#000000\" fill-rule=\"evenodd\" fill-opacity=\"1\" /><path clip-path=\"url(#clip580)\" d=\"M 0 0 M42.2347 824.092 L52.3562 824.092 L52.3562 812.029 L56.9077 812.029 L56.9077 824.092 L76.2594 824.092 Q80.6199 824.092 81.8613 822.915 Q83.1026 821.705 83.1026 818.045 L83.1026 812.029 L88.0042 812.029 L88.0042 818.045 Q88.0042 824.825 85.4897 827.403 Q82.9434 829.981 76.2594 829.981 L56.9077 829.981 L56.9077 834.278 L52.3562 834.278 L52.3562 829.981 L42.2347 829.981 L42.2347 824.092 Z\" fill=\"#000000\" fill-rule=\"evenodd\" fill-opacity=\"1\" /><path clip-path=\"url(#clip580)\" d=\"M 0 0 M56.4621 771.353 Q56.4621 776.063 60.1542 778.8 Q63.8145 781.538 70.212 781.538 Q76.6095 781.538 80.3017 778.832 Q83.9619 776.095 83.9619 771.353 Q83.9619 766.674 80.2698 763.937 Q76.5777 761.199 70.212 761.199 Q63.8781 761.199 60.186 763.937 Q56.4621 766.674 56.4621 771.353 M51.4968 771.353 Q51.4968 763.714 56.4621 759.353 Q61.4273 754.993 70.212 754.993 Q78.9649 754.993 83.9619 759.353 Q88.9272 763.714 88.9272 771.353 Q88.9272 779.023 83.9619 783.384 Q78.9649 787.712 70.212 787.712 Q61.4273 787.712 56.4621 783.384 Q51.4968 779.023 51.4968 771.353 Z\" fill=\"#000000\" fill-rule=\"evenodd\" fill-opacity=\"1\" /><path clip-path=\"url(#clip580)\" d=\"M 0 0 M38.479 730.803 L43.3487 730.803 L43.3487 736.405 Q43.3487 739.556 44.6219 740.797 Q45.895 742.007 49.2052 742.007 L52.3562 742.007 L52.3562 732.363 L56.9077 732.363 L56.9077 742.007 L88.0042 742.007 L88.0042 747.895 L56.9077 747.895 L56.9077 753.497 L52.3562 753.497 L52.3562 747.895 L49.8736 747.895 Q43.9216 747.895 41.2162 745.126 Q38.479 742.357 38.479 736.341 L38.479 730.803 Z\" fill=\"#000000\" fill-rule=\"evenodd\" fill-opacity=\"1\" /><path clip-path=\"url(#clip580)\" d=\"M 0 0 M70.212 678.35 Q63.7508 678.35 60.0905 681.023 Q56.3984 683.665 56.3984 688.312 Q56.3984 692.959 60.0905 695.633 Q63.7508 698.274 70.212 698.274 Q76.6732 698.274 80.3653 695.633 Q84.0256 692.959 84.0256 688.312 Q84.0256 683.665 80.3653 681.023 Q76.6732 678.35 70.212 678.35 M57.7671 698.274 Q54.5842 696.428 53.0564 693.627 Q51.4968 690.795 51.4968 686.88 Q51.4968 680.387 56.6531 676.344 Q61.8093 672.27 70.212 672.27 Q78.6147 672.27 83.771 676.344 Q88.9272 680.387 88.9272 686.88 Q88.9272 690.795 87.3994 693.627 Q85.8398 696.428 82.657 698.274 L88.0042 698.274 L88.0042 704.163 L38.479 704.163 L38.479 698.274 L57.7671 698.274 Z\" fill=\"#000000\" fill-rule=\"evenodd\" fill-opacity=\"1\" /><path clip-path=\"url(#clip580)\" d=\"M 0 0 M68.7161 635.636 L71.5806 635.636 L71.5806 662.563 Q77.6281 662.181 80.8109 658.934 Q83.9619 655.656 83.9619 649.831 Q83.9619 646.457 83.1344 643.306 Q82.3069 640.124 80.6518 637.004 L86.1899 637.004 Q87.5267 640.155 88.227 643.466 Q88.9272 646.776 88.9272 650.181 Q88.9272 658.711 83.9619 663.709 Q78.9967 668.674 70.5303 668.674 Q61.7774 668.674 56.6531 663.963 Q51.4968 659.221 51.4968 651.2 Q51.4968 644.007 56.1438 639.837 Q60.7589 635.636 68.7161 635.636 M66.9973 641.492 Q62.1912 641.556 59.3266 644.198 Q56.4621 646.808 56.4621 651.136 Q56.4621 656.038 59.2312 658.998 Q62.0002 661.926 67.0292 662.372 L66.9973 641.492 Z\" fill=\"#000000\" fill-rule=\"evenodd\" fill-opacity=\"1\" /><path clip-path=\"url(#clip580)\" d=\"M 0 0 M53.4065 606.767 L58.9447 606.767 Q57.6716 609.25 57.035 611.923 Q56.3984 614.597 56.3984 617.462 Q56.3984 621.822 57.7352 624.018 Q59.072 626.183 61.7456 626.183 Q63.7826 626.183 64.9603 624.623 Q66.1061 623.063 67.1565 618.353 L67.6021 616.348 Q68.9389 610.109 71.3897 607.499 Q73.8086 604.858 78.1691 604.858 Q83.1344 604.858 86.0308 608.804 Q88.9272 612.719 88.9272 619.594 Q88.9272 622.459 88.3543 625.578 Q87.8132 628.665 86.6992 632.103 L80.6518 632.103 Q82.3387 628.856 83.198 625.705 Q84.0256 622.554 84.0256 619.467 Q84.0256 615.329 82.6251 613.101 Q81.1929 610.873 78.6147 610.873 Q76.2276 610.873 74.9545 612.496 Q73.6813 614.088 72.5037 619.531 L72.0262 621.568 Q70.8804 627.01 68.5251 629.429 Q66.138 631.848 62.0002 631.848 Q56.9713 631.848 54.2341 628.283 Q51.4968 624.719 51.4968 618.162 Q51.4968 614.915 51.9743 612.051 Q52.4517 609.186 53.4065 606.767 Z\" fill=\"#000000\" fill-rule=\"evenodd\" fill-opacity=\"1\" /><path clip-path=\"url(#clip580)\" d=\"M 0 0 M42.2347 592.922 L52.3562 592.922 L52.3562 580.859 L56.9077 580.859 L56.9077 592.922 L76.2594 592.922 Q80.6199 592.922 81.8613 591.744 Q83.1026 590.535 83.1026 586.874 L83.1026 580.859 L88.0042 580.859 L88.0042 586.874 Q88.0042 593.654 85.4897 596.232 Q82.9434 598.81 76.2594 598.81 L56.9077 598.81 L56.9077 603.107 L52.3562 603.107 L52.3562 598.81 L42.2347 598.81 L42.2347 592.922 Z\" fill=\"#000000\" fill-rule=\"evenodd\" fill-opacity=\"1\" /><path clip-path=\"url(#clip580)\" d=\"M 0 0 M1253.81 34.1734 Q1252.55 33.4443 1251.05 33.1202 Q1249.59 32.7556 1247.81 32.7556 Q1241.49 32.7556 1238.09 36.8875 Q1234.73 40.9789 1234.73 48.6757 L1234.73 72.576 L1227.23 72.576 L1227.23 27.2059 L1234.73 27.2059 L1234.73 34.2544 Q1237.08 30.1225 1240.84 28.1376 Q1244.61 26.1121 1250 26.1121 Q1250.77 26.1121 1251.7 26.2337 Q1252.63 26.3147 1253.77 26.5172 L1253.81 34.1734 Z\" fill=\"#000000\" fill-rule=\"evenodd\" fill-opacity=\"1\" /><path clip-path=\"url(#clip580)\" d=\"M 0 0 M1298.61 48.0275 L1298.61 51.6733 L1264.34 51.6733 Q1264.83 59.3701 1268.96 63.421 Q1273.13 67.4314 1280.54 67.4314 Q1284.84 67.4314 1288.85 66.3781 Q1292.9 65.3249 1296.87 63.2184 L1296.87 70.267 Q1292.86 71.9684 1288.64 72.8596 Q1284.43 73.7508 1280.1 73.7508 Q1269.24 73.7508 1262.88 67.4314 Q1256.56 61.1119 1256.56 50.3365 Q1256.56 39.1965 1262.56 32.6746 Q1268.59 26.1121 1278.8 26.1121 Q1287.96 26.1121 1293.26 32.0264 Q1298.61 37.9003 1298.61 48.0275 M1291.16 45.84 Q1291.08 39.7232 1287.71 36.0774 Q1284.39 32.4315 1278.88 32.4315 Q1272.64 32.4315 1268.88 35.9558 Q1265.15 39.4801 1264.58 45.8805 L1291.16 45.84 Z\" fill=\"#000000\" fill-rule=\"evenodd\" fill-opacity=\"1\" /><path clip-path=\"url(#clip580)\" d=\"M 0 0 M1335.35 28.5427 L1335.35 35.5912 Q1332.19 33.9709 1328.79 33.1607 Q1325.39 32.3505 1321.74 32.3505 Q1316.19 32.3505 1313.4 34.0519 Q1310.64 35.7533 1310.64 39.156 Q1310.64 41.7486 1312.63 43.2475 Q1314.61 44.7058 1320.61 46.0426 L1323.16 46.6097 Q1331.1 48.3111 1334.42 51.4303 Q1337.78 54.509 1337.78 60.0587 Q1337.78 66.3781 1332.76 70.0644 Q1327.78 73.7508 1319.03 73.7508 Q1315.38 73.7508 1311.41 73.0216 Q1307.48 72.3329 1303.11 70.9151 L1303.11 63.2184 Q1307.24 65.3654 1311.25 66.4591 Q1315.26 67.5124 1319.19 67.5124 Q1324.45 67.5124 1327.29 65.73 Q1330.13 63.9071 1330.13 60.6258 Q1330.13 57.5877 1328.06 55.9673 Q1326.03 54.3469 1319.11 52.8481 L1316.51 52.2405 Q1309.59 50.7821 1306.51 47.7845 Q1303.43 44.7463 1303.43 39.4801 Q1303.43 33.0797 1307.97 29.5959 Q1312.5 26.1121 1320.85 26.1121 Q1324.98 26.1121 1328.63 26.7198 Q1332.27 27.3274 1335.35 28.5427 Z\" fill=\"#000000\" fill-rule=\"evenodd\" fill-opacity=\"1\" /><path clip-path=\"url(#clip580)\" d=\"M 0 0 M1344.83 54.671 L1344.83 27.2059 L1352.28 27.2059 L1352.28 54.3874 Q1352.28 60.8284 1354.8 64.0691 Q1357.31 67.2693 1362.33 67.2693 Q1368.37 67.2693 1371.85 63.421 Q1375.37 59.5726 1375.37 52.9291 L1375.37 27.2059 L1382.83 27.2059 L1382.83 72.576 L1375.37 72.576 L1375.37 65.6084 Q1372.66 69.7404 1369.06 71.7658 Q1365.49 73.7508 1360.75 73.7508 Q1352.93 73.7508 1348.88 68.8897 Q1344.83 64.0286 1344.83 54.671 M1363.59 26.1121 L1363.59 26.1121 Z\" fill=\"#000000\" fill-rule=\"evenodd\" fill-opacity=\"1\" /><path clip-path=\"url(#clip580)\" d=\"M 0 0 M1390.65 9.54393 L1398.1 9.54393 L1398.1 72.576 L1390.65 72.576 L1390.65 9.54393 Z\" fill=\"#000000\" fill-rule=\"evenodd\" fill-opacity=\"1\" /><path clip-path=\"url(#clip580)\" d=\"M 0 0 M1413.29 14.324 L1413.29 27.2059 L1428.64 27.2059 L1428.64 32.9987 L1413.29 32.9987 L1413.29 57.6282 Q1413.29 63.1779 1414.79 64.7578 Q1416.33 66.3376 1420.99 66.3376 L1428.64 66.3376 L1428.64 72.576 L1420.99 72.576 Q1412.36 72.576 1409.08 69.3758 Q1405.8 66.1351 1405.8 57.6282 L1405.8 32.9987 L1400.33 32.9987 L1400.33 27.2059 L1405.8 27.2059 L1405.8 14.324 L1413.29 14.324 Z\" fill=\"#000000\" fill-rule=\"evenodd\" fill-opacity=\"1\" /><path clip-path=\"url(#clip580)\" d=\"M 0 0 M1465.39 28.5427 L1465.39 35.5912 Q1462.23 33.9709 1458.82 33.1607 Q1455.42 32.3505 1451.77 32.3505 Q1446.22 32.3505 1443.43 34.0519 Q1440.68 35.7533 1440.68 39.156 Q1440.68 41.7486 1442.66 43.2475 Q1444.65 44.7058 1450.64 46.0426 L1453.19 46.6097 Q1461.13 48.3111 1464.45 51.4303 Q1467.82 54.509 1467.82 60.0587 Q1467.82 66.3781 1462.79 70.0644 Q1457.81 73.7508 1449.06 73.7508 Q1445.41 73.7508 1441.44 73.0216 Q1437.52 72.3329 1433.14 70.9151 L1433.14 63.2184 Q1437.27 65.3654 1441.28 66.4591 Q1445.29 67.5124 1449.22 67.5124 Q1454.49 67.5124 1457.32 65.73 Q1460.16 63.9071 1460.16 60.6258 Q1460.16 57.5877 1458.09 55.9673 Q1456.07 54.3469 1449.14 52.8481 L1446.55 52.2405 Q1439.62 50.7821 1436.54 47.7845 Q1433.46 44.7463 1433.46 39.4801 Q1433.46 33.0797 1438 29.5959 Q1442.54 26.1121 1450.88 26.1121 Q1455.02 26.1121 1458.66 26.7198 Q1462.31 27.3274 1465.39 28.5427 Z\" fill=\"#000000\" fill-rule=\"evenodd\" fill-opacity=\"1\" /><circle clip-path=\"url(#clip582)\" cx=\"979.764\" cy=\"765.221\" r=\"14\" fill=\"#009af9\" fill-rule=\"evenodd\" fill-opacity=\"1\" stroke=\"#000000\" stroke-opacity=\"1\" stroke-width=\"3.2\"/>\n",
       "<circle clip-path=\"url(#clip582)\" cx=\"571.795\" cy=\"978.588\" r=\"14\" fill=\"#009af9\" fill-rule=\"evenodd\" fill-opacity=\"1\" stroke=\"#000000\" stroke-opacity=\"1\" stroke-width=\"3.2\"/>\n",
       "<circle clip-path=\"url(#clip582)\" cx=\"1244.55\" cy=\"864.654\" r=\"14\" fill=\"#009af9\" fill-rule=\"evenodd\" fill-opacity=\"1\" stroke=\"#000000\" stroke-opacity=\"1\" stroke-width=\"3.2\"/>\n",
       "<circle clip-path=\"url(#clip582)\" cx=\"1317.12\" cy=\"518.283\" r=\"14\" fill=\"#009af9\" fill-rule=\"evenodd\" fill-opacity=\"1\" stroke=\"#000000\" stroke-opacity=\"1\" stroke-width=\"3.2\"/>\n",
       "<circle clip-path=\"url(#clip582)\" cx=\"469.803\" cy=\"1153.62\" r=\"14\" fill=\"#009af9\" fill-rule=\"evenodd\" fill-opacity=\"1\" stroke=\"#000000\" stroke-opacity=\"1\" stroke-width=\"3.2\"/>\n",
       "<circle clip-path=\"url(#clip582)\" cx=\"2221.32\" cy=\"673.691\" r=\"14\" fill=\"#009af9\" fill-rule=\"evenodd\" fill-opacity=\"1\" stroke=\"#000000\" stroke-opacity=\"1\" stroke-width=\"3.2\"/>\n",
       "<circle clip-path=\"url(#clip582)\" cx=\"809.123\" cy=\"521.925\" r=\"14\" fill=\"#009af9\" fill-rule=\"evenodd\" fill-opacity=\"1\" stroke=\"#000000\" stroke-opacity=\"1\" stroke-width=\"3.2\"/>\n",
       "<circle clip-path=\"url(#clip582)\" cx=\"544.336\" cy=\"1161.56\" r=\"14\" fill=\"#009af9\" fill-rule=\"evenodd\" fill-opacity=\"1\" stroke=\"#000000\" stroke-opacity=\"1\" stroke-width=\"3.2\"/>\n",
       "<circle clip-path=\"url(#clip582)\" cx=\"2282.13\" cy=\"773.907\" r=\"14\" fill=\"#009af9\" fill-rule=\"evenodd\" fill-opacity=\"1\" stroke=\"#000000\" stroke-opacity=\"1\" stroke-width=\"3.2\"/>\n",
       "<circle clip-path=\"url(#clip582)\" cx=\"1895.73\" cy=\"586.406\" r=\"14\" fill=\"#009af9\" fill-rule=\"evenodd\" fill-opacity=\"1\" stroke=\"#000000\" stroke-opacity=\"1\" stroke-width=\"3.2\"/>\n",
       "<circle clip-path=\"url(#clip582)\" cx=\"926.807\" cy=\"722.428\" r=\"14\" fill=\"#009af9\" fill-rule=\"evenodd\" fill-opacity=\"1\" stroke=\"#000000\" stroke-opacity=\"1\" stroke-width=\"3.2\"/>\n",
       "<circle clip-path=\"url(#clip582)\" cx=\"1179.83\" cy=\"878.473\" r=\"14\" fill=\"#009af9\" fill-rule=\"evenodd\" fill-opacity=\"1\" stroke=\"#000000\" stroke-opacity=\"1\" stroke-width=\"3.2\"/>\n",
       "<circle clip-path=\"url(#clip582)\" cx=\"1758.44\" cy=\"723.56\" r=\"14\" fill=\"#009af9\" fill-rule=\"evenodd\" fill-opacity=\"1\" stroke=\"#000000\" stroke-opacity=\"1\" stroke-width=\"3.2\"/>\n",
       "<circle clip-path=\"url(#clip582)\" cx=\"901.309\" cy=\"453.692\" r=\"14\" fill=\"#009af9\" fill-rule=\"evenodd\" fill-opacity=\"1\" stroke=\"#000000\" stroke-opacity=\"1\" stroke-width=\"3.2\"/>\n",
       "<circle clip-path=\"url(#clip582)\" cx=\"2107.56\" cy=\"752.087\" r=\"14\" fill=\"#009af9\" fill-rule=\"evenodd\" fill-opacity=\"1\" stroke=\"#000000\" stroke-opacity=\"1\" stroke-width=\"3.2\"/>\n",
       "<circle clip-path=\"url(#clip582)\" cx=\"1595.64\" cy=\"779.835\" r=\"14\" fill=\"#009af9\" fill-rule=\"evenodd\" fill-opacity=\"1\" stroke=\"#000000\" stroke-opacity=\"1\" stroke-width=\"3.2\"/>\n",
       "<circle clip-path=\"url(#clip582)\" cx=\"1762.36\" cy=\"682.219\" r=\"14\" fill=\"#009af9\" fill-rule=\"evenodd\" fill-opacity=\"1\" stroke=\"#000000\" stroke-opacity=\"1\" stroke-width=\"3.2\"/>\n",
       "<circle clip-path=\"url(#clip582)\" cx=\"526.683\" cy=\"711.709\" r=\"14\" fill=\"#009af9\" fill-rule=\"evenodd\" fill-opacity=\"1\" stroke=\"#000000\" stroke-opacity=\"1\" stroke-width=\"3.2\"/>\n",
       "<circle clip-path=\"url(#clip582)\" cx=\"1262.2\" cy=\"924.617\" r=\"14\" fill=\"#009af9\" fill-rule=\"evenodd\" fill-opacity=\"1\" stroke=\"#000000\" stroke-opacity=\"1\" stroke-width=\"3.2\"/>\n",
       "<circle clip-path=\"url(#clip582)\" cx=\"675.749\" cy=\"1053.59\" r=\"14\" fill=\"#009af9\" fill-rule=\"evenodd\" fill-opacity=\"1\" stroke=\"#000000\" stroke-opacity=\"1\" stroke-width=\"3.2\"/>\n",
       "<circle clip-path=\"url(#clip582)\" cx=\"807.162\" cy=\"700.002\" r=\"14\" fill=\"#009af9\" fill-rule=\"evenodd\" fill-opacity=\"1\" stroke=\"#000000\" stroke-opacity=\"1\" stroke-width=\"3.2\"/>\n",
       "<circle clip-path=\"url(#clip582)\" cx=\"1579.95\" cy=\"586.557\" r=\"14\" fill=\"#009af9\" fill-rule=\"evenodd\" fill-opacity=\"1\" stroke=\"#000000\" stroke-opacity=\"1\" stroke-width=\"3.2\"/>\n",
       "<circle clip-path=\"url(#clip582)\" cx=\"1901.62\" cy=\"858.337\" r=\"14\" fill=\"#009af9\" fill-rule=\"evenodd\" fill-opacity=\"1\" stroke=\"#000000\" stroke-opacity=\"1\" stroke-width=\"3.2\"/>\n",
       "<circle clip-path=\"url(#clip582)\" cx=\"2184.06\" cy=\"735.437\" r=\"14\" fill=\"#009af9\" fill-rule=\"evenodd\" fill-opacity=\"1\" stroke=\"#000000\" stroke-opacity=\"1\" stroke-width=\"3.2\"/>\n",
       "<circle clip-path=\"url(#clip582)\" cx=\"940.536\" cy=\"834.99\" r=\"14\" fill=\"#009af9\" fill-rule=\"evenodd\" fill-opacity=\"1\" stroke=\"#000000\" stroke-opacity=\"1\" stroke-width=\"3.2\"/>\n",
       "<circle clip-path=\"url(#clip582)\" cx=\"881.695\" cy=\"669.302\" r=\"14\" fill=\"#009af9\" fill-rule=\"evenodd\" fill-opacity=\"1\" stroke=\"#000000\" stroke-opacity=\"1\" stroke-width=\"3.2\"/>\n",
       "<circle clip-path=\"url(#clip582)\" cx=\"479.61\" cy=\"1206.2\" r=\"14\" fill=\"#009af9\" fill-rule=\"evenodd\" fill-opacity=\"1\" stroke=\"#000000\" stroke-opacity=\"1\" stroke-width=\"3.2\"/>\n",
       "<circle clip-path=\"url(#clip582)\" cx=\"403.116\" cy=\"1167\" r=\"14\" fill=\"#009af9\" fill-rule=\"evenodd\" fill-opacity=\"1\" stroke=\"#000000\" stroke-opacity=\"1\" stroke-width=\"3.2\"/>\n",
       "<circle clip-path=\"url(#clip582)\" cx=\"1166.1\" cy=\"732.148\" r=\"14\" fill=\"#009af9\" fill-rule=\"evenodd\" fill-opacity=\"1\" stroke=\"#000000\" stroke-opacity=\"1\" stroke-width=\"3.2\"/>\n",
       "<circle clip-path=\"url(#clip582)\" cx=\"554.143\" cy=\"805.885\" r=\"14\" fill=\"#009af9\" fill-rule=\"evenodd\" fill-opacity=\"1\" stroke=\"#000000\" stroke-opacity=\"1\" stroke-width=\"3.2\"/>\n",
       "<circle clip-path=\"url(#clip582)\" cx=\"2064.41\" cy=\"805.403\" r=\"14\" fill=\"#009af9\" fill-rule=\"evenodd\" fill-opacity=\"1\" stroke=\"#000000\" stroke-opacity=\"1\" stroke-width=\"3.2\"/>\n",
       "<circle clip-path=\"url(#clip582)\" cx=\"589.448\" cy=\"494.017\" r=\"14\" fill=\"#009af9\" fill-rule=\"evenodd\" fill-opacity=\"1\" stroke=\"#000000\" stroke-opacity=\"1\" stroke-width=\"3.2\"/>\n",
       "<circle clip-path=\"url(#clip582)\" cx=\"2103.64\" cy=\"518.889\" r=\"14\" fill=\"#009af9\" fill-rule=\"evenodd\" fill-opacity=\"1\" stroke=\"#000000\" stroke-opacity=\"1\" stroke-width=\"3.2\"/>\n",
       "<circle clip-path=\"url(#clip582)\" cx=\"1407.35\" cy=\"408.219\" r=\"14\" fill=\"#009af9\" fill-rule=\"evenodd\" fill-opacity=\"1\" stroke=\"#000000\" stroke-opacity=\"1\" stroke-width=\"3.2\"/>\n",
       "<circle clip-path=\"url(#clip582)\" cx=\"2091.87\" cy=\"704.452\" r=\"14\" fill=\"#009af9\" fill-rule=\"evenodd\" fill-opacity=\"1\" stroke=\"#000000\" stroke-opacity=\"1\" stroke-width=\"3.2\"/>\n",
       "<circle clip-path=\"url(#clip582)\" cx=\"2103.64\" cy=\"681.201\" r=\"14\" fill=\"#009af9\" fill-rule=\"evenodd\" fill-opacity=\"1\" stroke=\"#000000\" stroke-opacity=\"1\" stroke-width=\"3.2\"/>\n",
       "<circle clip-path=\"url(#clip582)\" cx=\"816.969\" cy=\"999.456\" r=\"14\" fill=\"#009af9\" fill-rule=\"evenodd\" fill-opacity=\"1\" stroke=\"#000000\" stroke-opacity=\"1\" stroke-width=\"3.2\"/>\n",
       "<circle clip-path=\"url(#clip582)\" cx=\"399.193\" cy=\"1332.6\" r=\"14\" fill=\"#009af9\" fill-rule=\"evenodd\" fill-opacity=\"1\" stroke=\"#000000\" stroke-opacity=\"1\" stroke-width=\"3.2\"/>\n",
       "<circle clip-path=\"url(#clip582)\" cx=\"1811.39\" cy=\"160.256\" r=\"14\" fill=\"#009af9\" fill-rule=\"evenodd\" fill-opacity=\"1\" stroke=\"#000000\" stroke-opacity=\"1\" stroke-width=\"3.2\"/>\n",
       "<circle clip-path=\"url(#clip582)\" cx=\"418.807\" cy=\"1386.4\" r=\"14\" fill=\"#009af9\" fill-rule=\"evenodd\" fill-opacity=\"1\" stroke=\"#000000\" stroke-opacity=\"1\" stroke-width=\"3.2\"/>\n",
       "<circle clip-path=\"url(#clip582)\" cx=\"1627.02\" cy=\"454.213\" r=\"14\" fill=\"#009af9\" fill-rule=\"evenodd\" fill-opacity=\"1\" stroke=\"#000000\" stroke-opacity=\"1\" stroke-width=\"3.2\"/>\n",
       "<circle clip-path=\"url(#clip582)\" cx=\"2189.94\" cy=\"826.703\" r=\"14\" fill=\"#009af9\" fill-rule=\"evenodd\" fill-opacity=\"1\" stroke=\"#000000\" stroke-opacity=\"1\" stroke-width=\"3.2\"/>\n",
       "<circle clip-path=\"url(#clip582)\" cx=\"1836.89\" cy=\"438.523\" r=\"14\" fill=\"#009af9\" fill-rule=\"evenodd\" fill-opacity=\"1\" stroke=\"#000000\" stroke-opacity=\"1\" stroke-width=\"3.2\"/>\n",
       "<circle clip-path=\"url(#clip582)\" cx=\"2052.64\" cy=\"321.138\" r=\"14\" fill=\"#009af9\" fill-rule=\"evenodd\" fill-opacity=\"1\" stroke=\"#000000\" stroke-opacity=\"1\" stroke-width=\"3.2\"/>\n",
       "<circle clip-path=\"url(#clip582)\" cx=\"2105.6\" cy=\"475.356\" r=\"14\" fill=\"#009af9\" fill-rule=\"evenodd\" fill-opacity=\"1\" stroke=\"#000000\" stroke-opacity=\"1\" stroke-width=\"3.2\"/>\n",
       "<circle clip-path=\"url(#clip582)\" cx=\"2003.61\" cy=\"259.637\" r=\"14\" fill=\"#009af9\" fill-rule=\"evenodd\" fill-opacity=\"1\" stroke=\"#000000\" stroke-opacity=\"1\" stroke-width=\"3.2\"/>\n",
       "<circle clip-path=\"url(#clip582)\" cx=\"1834.93\" cy=\"485.377\" r=\"14\" fill=\"#009af9\" fill-rule=\"evenodd\" fill-opacity=\"1\" stroke=\"#000000\" stroke-opacity=\"1\" stroke-width=\"3.2\"/>\n",
       "<circle clip-path=\"url(#clip582)\" cx=\"646.328\" cy=\"867.085\" r=\"14\" fill=\"#009af9\" fill-rule=\"evenodd\" fill-opacity=\"1\" stroke=\"#000000\" stroke-opacity=\"1\" stroke-width=\"3.2\"/>\n",
       "<circle clip-path=\"url(#clip582)\" cx=\"1501.49\" cy=\"880.647\" r=\"14\" fill=\"#009af9\" fill-rule=\"evenodd\" fill-opacity=\"1\" stroke=\"#000000\" stroke-opacity=\"1\" stroke-width=\"3.2\"/>\n",
       "<circle clip-path=\"url(#clip582)\" cx=\"1705.48\" cy=\"834.938\" r=\"14\" fill=\"#009af9\" fill-rule=\"evenodd\" fill-opacity=\"1\" stroke=\"#000000\" stroke-opacity=\"1\" stroke-width=\"3.2\"/>\n",
       "<circle clip-path=\"url(#clip582)\" cx=\"607.1\" cy=\"879.766\" r=\"14\" fill=\"#009af9\" fill-rule=\"evenodd\" fill-opacity=\"1\" stroke=\"#000000\" stroke-opacity=\"1\" stroke-width=\"3.2\"/>\n",
       "<circle clip-path=\"url(#clip582)\" cx=\"1142.56\" cy=\"218.228\" r=\"14\" fill=\"#009af9\" fill-rule=\"evenodd\" fill-opacity=\"1\" stroke=\"#000000\" stroke-opacity=\"1\" stroke-width=\"3.2\"/>\n",
       "<circle clip-path=\"url(#clip582)\" cx=\"1258.28\" cy=\"726.045\" r=\"14\" fill=\"#009af9\" fill-rule=\"evenodd\" fill-opacity=\"1\" stroke=\"#000000\" stroke-opacity=\"1\" stroke-width=\"3.2\"/>\n",
       "<circle clip-path=\"url(#clip582)\" cx=\"477.649\" cy=\"983.764\" r=\"14\" fill=\"#009af9\" fill-rule=\"evenodd\" fill-opacity=\"1\" stroke=\"#000000\" stroke-opacity=\"1\" stroke-width=\"3.2\"/>\n",
       "<circle clip-path=\"url(#clip582)\" cx=\"891.502\" cy=\"983.301\" r=\"14\" fill=\"#009af9\" fill-rule=\"evenodd\" fill-opacity=\"1\" stroke=\"#000000\" stroke-opacity=\"1\" stroke-width=\"3.2\"/>\n",
       "<circle clip-path=\"url(#clip582)\" cx=\"2295.86\" cy=\"649.465\" r=\"14\" fill=\"#009af9\" fill-rule=\"evenodd\" fill-opacity=\"1\" stroke=\"#000000\" stroke-opacity=\"1\" stroke-width=\"3.2\"/>\n",
       "<circle clip-path=\"url(#clip582)\" cx=\"758.127\" cy=\"617.606\" r=\"14\" fill=\"#009af9\" fill-rule=\"evenodd\" fill-opacity=\"1\" stroke=\"#000000\" stroke-opacity=\"1\" stroke-width=\"3.2\"/>\n",
       "<circle clip-path=\"url(#clip582)\" cx=\"940.536\" cy=\"727.926\" r=\"14\" fill=\"#009af9\" fill-rule=\"evenodd\" fill-opacity=\"1\" stroke=\"#000000\" stroke-opacity=\"1\" stroke-width=\"3.2\"/>\n",
       "<circle clip-path=\"url(#clip582)\" cx=\"1783.93\" cy=\"763.057\" r=\"14\" fill=\"#009af9\" fill-rule=\"evenodd\" fill-opacity=\"1\" stroke=\"#000000\" stroke-opacity=\"1\" stroke-width=\"3.2\"/>\n",
       "<circle clip-path=\"url(#clip582)\" cx=\"1250.44\" cy=\"741.219\" r=\"14\" fill=\"#009af9\" fill-rule=\"evenodd\" fill-opacity=\"1\" stroke=\"#000000\" stroke-opacity=\"1\" stroke-width=\"3.2\"/>\n",
       "<circle clip-path=\"url(#clip582)\" cx=\"1289.66\" cy=\"615.035\" r=\"14\" fill=\"#009af9\" fill-rule=\"evenodd\" fill-opacity=\"1\" stroke=\"#000000\" stroke-opacity=\"1\" stroke-width=\"3.2\"/>\n",
       "<circle clip-path=\"url(#clip582)\" cx=\"1887.89\" cy=\"470.598\" r=\"14\" fill=\"#009af9\" fill-rule=\"evenodd\" fill-opacity=\"1\" stroke=\"#000000\" stroke-opacity=\"1\" stroke-width=\"3.2\"/>\n",
       "<circle clip-path=\"url(#clip582)\" cx=\"2221.32\" cy=\"420.717\" r=\"14\" fill=\"#009af9\" fill-rule=\"evenodd\" fill-opacity=\"1\" stroke=\"#000000\" stroke-opacity=\"1\" stroke-width=\"3.2\"/>\n",
       "<circle clip-path=\"url(#clip582)\" cx=\"2068.33\" cy=\"614.494\" r=\"14\" fill=\"#009af9\" fill-rule=\"evenodd\" fill-opacity=\"1\" stroke=\"#000000\" stroke-opacity=\"1\" stroke-width=\"3.2\"/>\n",
       "<circle clip-path=\"url(#clip582)\" cx=\"1789.82\" cy=\"623.1\" r=\"14\" fill=\"#009af9\" fill-rule=\"evenodd\" fill-opacity=\"1\" stroke=\"#000000\" stroke-opacity=\"1\" stroke-width=\"3.2\"/>\n",
       "<circle clip-path=\"url(#clip582)\" cx=\"1303.39\" cy=\"703.94\" r=\"14\" fill=\"#009af9\" fill-rule=\"evenodd\" fill-opacity=\"1\" stroke=\"#000000\" stroke-opacity=\"1\" stroke-width=\"3.2\"/>\n",
       "<circle clip-path=\"url(#clip582)\" cx=\"760.089\" cy=\"982.053\" r=\"14\" fill=\"#009af9\" fill-rule=\"evenodd\" fill-opacity=\"1\" stroke=\"#000000\" stroke-opacity=\"1\" stroke-width=\"3.2\"/>\n",
       "<circle clip-path=\"url(#clip582)\" cx=\"724.784\" cy=\"1049.74\" r=\"14\" fill=\"#009af9\" fill-rule=\"evenodd\" fill-opacity=\"1\" stroke=\"#000000\" stroke-opacity=\"1\" stroke-width=\"3.2\"/>\n",
       "<circle clip-path=\"url(#clip582)\" cx=\"1277.9\" cy=\"608.71\" r=\"14\" fill=\"#009af9\" fill-rule=\"evenodd\" fill-opacity=\"1\" stroke=\"#000000\" stroke-opacity=\"1\" stroke-width=\"3.2\"/>\n",
       "<circle clip-path=\"url(#clip582)\" cx=\"1583.87\" cy=\"237.087\" r=\"14\" fill=\"#009af9\" fill-rule=\"evenodd\" fill-opacity=\"1\" stroke=\"#000000\" stroke-opacity=\"1\" stroke-width=\"3.2\"/>\n",
       "<circle clip-path=\"url(#clip582)\" cx=\"550.22\" cy=\"948.707\" r=\"14\" fill=\"#009af9\" fill-rule=\"evenodd\" fill-opacity=\"1\" stroke=\"#000000\" stroke-opacity=\"1\" stroke-width=\"3.2\"/>\n",
       "<circle clip-path=\"url(#clip582)\" cx=\"1864.35\" cy=\"846.992\" r=\"14\" fill=\"#009af9\" fill-rule=\"evenodd\" fill-opacity=\"1\" stroke=\"#000000\" stroke-opacity=\"1\" stroke-width=\"3.2\"/>\n",
       "<circle clip-path=\"url(#clip582)\" cx=\"1940.84\" cy=\"602.762\" r=\"14\" fill=\"#009af9\" fill-rule=\"evenodd\" fill-opacity=\"1\" stroke=\"#000000\" stroke-opacity=\"1\" stroke-width=\"3.2\"/>\n",
       "<circle clip-path=\"url(#clip582)\" cx=\"477.649\" cy=\"1195.88\" r=\"14\" fill=\"#009af9\" fill-rule=\"evenodd\" fill-opacity=\"1\" stroke=\"#000000\" stroke-opacity=\"1\" stroke-width=\"3.2\"/>\n",
       "<circle clip-path=\"url(#clip582)\" cx=\"2087.95\" cy=\"873.547\" r=\"14\" fill=\"#009af9\" fill-rule=\"evenodd\" fill-opacity=\"1\" stroke=\"#000000\" stroke-opacity=\"1\" stroke-width=\"3.2\"/>\n",
       "<circle clip-path=\"url(#clip582)\" cx=\"1670.17\" cy=\"289.944\" r=\"14\" fill=\"#009af9\" fill-rule=\"evenodd\" fill-opacity=\"1\" stroke=\"#000000\" stroke-opacity=\"1\" stroke-width=\"3.2\"/>\n",
       "<circle clip-path=\"url(#clip582)\" cx=\"1752.55\" cy=\"682.92\" r=\"14\" fill=\"#009af9\" fill-rule=\"evenodd\" fill-opacity=\"1\" stroke=\"#000000\" stroke-opacity=\"1\" stroke-width=\"3.2\"/>\n",
       "<circle clip-path=\"url(#clip582)\" cx=\"1175.9\" cy=\"461.563\" r=\"14\" fill=\"#009af9\" fill-rule=\"evenodd\" fill-opacity=\"1\" stroke=\"#000000\" stroke-opacity=\"1\" stroke-width=\"3.2\"/>\n",
       "<circle clip-path=\"url(#clip582)\" cx=\"505.108\" cy=\"920.087\" r=\"14\" fill=\"#009af9\" fill-rule=\"evenodd\" fill-opacity=\"1\" stroke=\"#000000\" stroke-opacity=\"1\" stroke-width=\"3.2\"/>\n",
       "<circle clip-path=\"url(#clip582)\" cx=\"2033.03\" cy=\"575.715\" r=\"14\" fill=\"#009af9\" fill-rule=\"evenodd\" fill-opacity=\"1\" stroke=\"#000000\" stroke-opacity=\"1\" stroke-width=\"3.2\"/>\n",
       "<circle clip-path=\"url(#clip582)\" cx=\"1829.05\" cy=\"638.162\" r=\"14\" fill=\"#009af9\" fill-rule=\"evenodd\" fill-opacity=\"1\" stroke=\"#000000\" stroke-opacity=\"1\" stroke-width=\"3.2\"/>\n",
       "<circle clip-path=\"url(#clip582)\" cx=\"1660.37\" cy=\"554.2\" r=\"14\" fill=\"#009af9\" fill-rule=\"evenodd\" fill-opacity=\"1\" stroke=\"#000000\" stroke-opacity=\"1\" stroke-width=\"3.2\"/>\n",
       "<circle clip-path=\"url(#clip582)\" cx=\"501.185\" cy=\"1009.45\" r=\"14\" fill=\"#009af9\" fill-rule=\"evenodd\" fill-opacity=\"1\" stroke=\"#000000\" stroke-opacity=\"1\" stroke-width=\"3.2\"/>\n",
       "<circle clip-path=\"url(#clip582)\" cx=\"1458.34\" cy=\"640.813\" r=\"14\" fill=\"#009af9\" fill-rule=\"evenodd\" fill-opacity=\"1\" stroke=\"#000000\" stroke-opacity=\"1\" stroke-width=\"3.2\"/>\n",
       "<circle clip-path=\"url(#clip582)\" cx=\"1056.26\" cy=\"601.708\" r=\"14\" fill=\"#009af9\" fill-rule=\"evenodd\" fill-opacity=\"1\" stroke=\"#000000\" stroke-opacity=\"1\" stroke-width=\"3.2\"/>\n",
       "<circle clip-path=\"url(#clip582)\" cx=\"677.71\" cy=\"1077.94\" r=\"14\" fill=\"#009af9\" fill-rule=\"evenodd\" fill-opacity=\"1\" stroke=\"#000000\" stroke-opacity=\"1\" stroke-width=\"3.2\"/>\n",
       "<circle clip-path=\"url(#clip582)\" cx=\"1136.68\" cy=\"765.175\" r=\"14\" fill=\"#009af9\" fill-rule=\"evenodd\" fill-opacity=\"1\" stroke=\"#000000\" stroke-opacity=\"1\" stroke-width=\"3.2\"/>\n",
       "<circle clip-path=\"url(#clip582)\" cx=\"1350.47\" cy=\"721.675\" r=\"14\" fill=\"#009af9\" fill-rule=\"evenodd\" fill-opacity=\"1\" stroke=\"#000000\" stroke-opacity=\"1\" stroke-width=\"3.2\"/>\n",
       "<circle clip-path=\"url(#clip582)\" cx=\"826.776\" cy=\"923.069\" r=\"14\" fill=\"#009af9\" fill-rule=\"evenodd\" fill-opacity=\"1\" stroke=\"#000000\" stroke-opacity=\"1\" stroke-width=\"3.2\"/>\n",
       "<circle clip-path=\"url(#clip582)\" cx=\"1674.1\" cy=\"645.101\" r=\"14\" fill=\"#009af9\" fill-rule=\"evenodd\" fill-opacity=\"1\" stroke=\"#000000\" stroke-opacity=\"1\" stroke-width=\"3.2\"/>\n",
       "<circle clip-path=\"url(#clip582)\" cx=\"2284.09\" cy=\"356.412\" r=\"14\" fill=\"#009af9\" fill-rule=\"evenodd\" fill-opacity=\"1\" stroke=\"#000000\" stroke-opacity=\"1\" stroke-width=\"3.2\"/>\n",
       "<circle clip-path=\"url(#clip582)\" cx=\"697.324\" cy=\"947.192\" r=\"14\" fill=\"#009af9\" fill-rule=\"evenodd\" fill-opacity=\"1\" stroke=\"#000000\" stroke-opacity=\"1\" stroke-width=\"3.2\"/>\n",
       "<circle clip-path=\"url(#clip582)\" cx=\"1921.23\" cy=\"565.33\" r=\"14\" fill=\"#009af9\" fill-rule=\"evenodd\" fill-opacity=\"1\" stroke=\"#000000\" stroke-opacity=\"1\" stroke-width=\"3.2\"/>\n",
       "<circle clip-path=\"url(#clip582)\" cx=\"1228.86\" cy=\"790.178\" r=\"14\" fill=\"#009af9\" fill-rule=\"evenodd\" fill-opacity=\"1\" stroke=\"#000000\" stroke-opacity=\"1\" stroke-width=\"3.2\"/>\n",
       "<circle clip-path=\"url(#clip582)\" cx=\"824.815\" cy=\"422.186\" r=\"14\" fill=\"#009af9\" fill-rule=\"evenodd\" fill-opacity=\"1\" stroke=\"#000000\" stroke-opacity=\"1\" stroke-width=\"3.2\"/>\n",
       "<circle clip-path=\"url(#clip582)\" cx=\"644.367\" cy=\"859.351\" r=\"14\" fill=\"#009af9\" fill-rule=\"evenodd\" fill-opacity=\"1\" stroke=\"#000000\" stroke-opacity=\"1\" stroke-width=\"3.2\"/>\n",
       "<circle clip-path=\"url(#clip582)\" cx=\"1040.57\" cy=\"773.464\" r=\"14\" fill=\"#009af9\" fill-rule=\"evenodd\" fill-opacity=\"1\" stroke=\"#000000\" stroke-opacity=\"1\" stroke-width=\"3.2\"/>\n",
       "<circle clip-path=\"url(#clip582)\" cx=\"1383.81\" cy=\"683.137\" r=\"14\" fill=\"#009af9\" fill-rule=\"evenodd\" fill-opacity=\"1\" stroke=\"#000000\" stroke-opacity=\"1\" stroke-width=\"3.2\"/>\n",
       "<circle clip-path=\"url(#clip582)\" cx=\"1064.1\" cy=\"933.906\" r=\"14\" fill=\"#009af9\" fill-rule=\"evenodd\" fill-opacity=\"1\" stroke=\"#000000\" stroke-opacity=\"1\" stroke-width=\"3.2\"/>\n",
       "<circle clip-path=\"url(#clip582)\" cx=\"1277.9\" cy=\"614.712\" r=\"14\" fill=\"#009af9\" fill-rule=\"evenodd\" fill-opacity=\"1\" stroke=\"#000000\" stroke-opacity=\"1\" stroke-width=\"3.2\"/>\n",
       "<path clip-path=\"url(#clip580)\" d=\"\n",
       "M2011.34 287.756 L2285.74 287.756 L2285.74 166.796 L2011.34 166.796  Z\n",
       "  \" fill=\"#ffffff\" fill-rule=\"evenodd\" fill-opacity=\"1\"/>\n",
       "<polyline clip-path=\"url(#clip580)\" style=\"stroke:#000000; stroke-width:4; stroke-opacity:1; fill:none\" points=\"\n",
       "  2011.34,287.756 2285.74,287.756 2285.74,166.796 2011.34,166.796 2011.34,287.756 \n",
       "  \"/>\n",
       "<circle clip-path=\"url(#clip580)\" cx=\"2100.69\" cy=\"227.276\" r=\"23\" fill=\"#009af9\" fill-rule=\"evenodd\" fill-opacity=\"1\" stroke=\"#000000\" stroke-opacity=\"1\" stroke-width=\"5.12\"/>\n",
       "<path clip-path=\"url(#clip580)\" d=\"M 0 0 M2203.89 246.963 Q2202.08 251.593 2200.37 253.005 Q2198.66 254.417 2195.79 254.417 L2192.38 254.417 L2192.38 250.852 L2194.88 250.852 Q2196.64 250.852 2197.61 250.019 Q2198.59 249.185 2199.77 246.083 L2200.53 244.139 L2190.05 218.63 L2194.56 218.63 L2202.66 238.908 L2210.76 218.63 L2215.28 218.63 L2203.89 246.963 Z\" fill=\"#000000\" fill-rule=\"evenodd\" fill-opacity=\"1\" /><path clip-path=\"url(#clip580)\" d=\"M 0 0 M2221.16 240.621 L2228.8 240.621 L2228.8 214.255 L2220.48 215.922 L2220.48 211.662 L2228.75 209.996 L2233.42 209.996 L2233.42 240.621 L2241.06 240.621 L2241.06 244.556 L2221.16 244.556 L2221.16 240.621 Z\" fill=\"#000000\" fill-rule=\"evenodd\" fill-opacity=\"1\" /></svg>\n"
      ]
     },
     "execution_count": 8,
     "metadata": {},
     "output_type": "execute_result"
    }
   ],
   "source": [
    "plantm = createpath(10,10,1)\n",
    "x = []\n",
    "y = []\n",
    "\n",
    "#generate 100 points between 1 and 1000 trials and plot them\n",
    "#this takes a few minutes usually\n",
    "\n",
    "for j=1:100\n",
    "    i = rand(1:1000)\n",
    "    xbest = simulated_annealing(profitpath, plantm, createpath, t,i,1)\n",
    "    money = profitpath(xbest)\n",
    "    push!(x, i)\n",
    "    push!(y, -money)\n",
    "end\n",
    "\n",
    "plot(x,y,seriestype = :scatter, title = \"results\")\n",
    "xlabel!(\"trials\")\n",
    "ylabel!(\"profit of best\")"
   ]
  },
  {
   "cell_type": "code",
   "execution_count": 9,
   "metadata": {},
   "outputs": [
    {
     "name": "stdout",
     "output_type": "stream",
     "text": [
      "1.0620776739348418e6"
     ]
    }
   ],
   "source": [
    "#run on a sample 20x20 plant field\n",
    "plantma = createpath(10,10,1)\n",
    "xbest = simulated_annealing(profitpath, plantma, createpath, t, 10000, 1)\n",
    "money = -profitpath(xbest)\n",
    "print(money)\n",
    "# for i in xbest\n",
    "#     plotfield(i)\n",
    "# end"
   ]
  },
  {
   "cell_type": "code",
   "execution_count": null,
   "metadata": {},
   "outputs": [],
   "source": []
  }
 ],
 "metadata": {
  "kernelspec": {
   "display_name": "Julia 1.5.2",
   "language": "julia",
   "name": "julia-1.5"
  },
  "language_info": {
   "file_extension": ".jl",
   "mimetype": "application/julia",
   "name": "julia",
   "version": "1.5.2"
  }
 },
 "nbformat": 4,
 "nbformat_minor": 4
}
